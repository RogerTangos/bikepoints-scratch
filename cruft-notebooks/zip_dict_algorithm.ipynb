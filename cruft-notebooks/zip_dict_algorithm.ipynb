{
 "cells": [
  {
   "cell_type": "markdown",
   "metadata": {},
   "source": [
    "# Populate `zip_code_dict.pickle`\n",
    "\n",
    "^^ this is the one and only thing this file should do"
   ]
  },
  {
   "cell_type": "code",
   "execution_count": 55,
   "metadata": {},
   "outputs": [],
   "source": [
    "from shapely.geometry import Polygon, Point\n",
    "import networkx as nx\n",
    "import random\n",
    "from uszipcode import SearchEngine\n",
    "import pickle\n",
    "import fiona\n",
    "from shapely.geometry import shape\n",
    "from pyproj import Proj, transform, Transformer\n",
    "\n",
    "g_pickle = \"02_boston-area.gpickle\"\n",
    "g = nx.read_gpickle(g_pickle)\n"
   ]
  },
  {
   "cell_type": "markdown",
   "metadata": {},
   "source": [
    "## Populate zip_code_dict from CSV file"
   ]
  },
  {
   "cell_type": "code",
   "execution_count": 37,
   "metadata": {},
   "outputs": [],
   "source": [
    "import csv\n",
    "g = nx.read_gpickle(\"02_boston-area.gpickle\")\n",
    "\n",
    "with open('zip_code_dict.pickle', 'rb') as handle:\n",
    "    zip_code_dict = pickle.load(handle)\n",
    "\n",
    "with open('./data/boston-metro_zipcodes.csv', newline='') as csvfile:\n",
    "    r = csv.reader(csvfile, delimiter=',')\n",
    "    for row in r:\n",
    "        if row[0] in g.nodes().data():\n",
    "            zip_code_dict[row[0]] = row[1]\n",
    "\n",
    "with open('zip_code_dict.pickle', 'wb') as handle:\n",
    "    pickle.dump(zip_code_dict, handle, protocol=pickle.HIGHEST_PROTOCOL)\n",
    "\n"
   ]
  },
  {
   "cell_type": "code",
   "execution_count": 38,
   "metadata": {},
   "outputs": [
    {
     "name": "stdout",
     "output_type": "stream",
     "text": [
      "02360\n",
      "02790\n",
      "01450\n",
      "02535\n",
      "01742\n",
      "02568\n",
      "02554\n",
      "02649\n",
      "01938\n",
      "01844\n",
      "01826\n",
      "02667\n",
      "02050\n",
      "02539\n",
      "02536\n",
      "01930\n",
      "01463\n",
      "02777\n",
      "01585\n",
      "02748\n",
      "02332\n",
      "01966\n",
      "02481\n",
      "02655\n",
      "02420\n",
      "02043\n",
      "01852\n",
      "02740\n",
      "02559\n",
      "01529\n",
      "01905\n",
      "01945\n",
      "02630\n",
      "02571\n",
      "02066\n",
      "01969\n",
      "01951\n",
      "01879\n",
      "01701\n",
      "02563\n",
      "02739\n",
      "01821\n",
      "01050\n",
      "02668\n",
      "02653\n",
      "01778\n",
      "01760\n",
      "01952\n",
      "01982\n",
      "01915\n",
      "02719\n",
      "02642\n",
      "01923\n",
      "01929\n",
      "02713\n",
      "02738\n",
      "02186\n",
      "02169\n",
      "01803\n",
      "02633\n",
      "01504\n",
      "02718\n",
      "02025\n",
      "02673\n",
      "01862\n",
      "01950\n",
      "01008\n",
      "01835\n",
      "01944\n",
      "02148\n",
      "02472\n",
      "01854\n",
      "02675\n",
      "02155\n",
      "02045\n",
      "02191\n",
      "02543\n",
      "01380\n",
      "02453\n",
      "02125\n",
      "02127\n",
      "02670\n",
      "02534\n",
      "02744\n",
      "02129\n",
      "02026\n",
      "02532\n",
      "01908\n",
      "02791\n",
      "02641\n",
      "01965\n",
      "02210\n",
      "02647\n",
      "02116\n",
      "02215\n",
      "02462\n",
      "02467\n",
      "02114\n",
      "02163\n",
      "02671\n",
      "02467\n",
      "02152\n"
     ]
    }
   ],
   "source": [
    "shapes = fiona.open(\"./mass_zips/zipcodes_nt/ZIPCODES_NT_POLY.shp\")\n",
    "input_proj = shapes.crs.get('init')\n",
    "output_proj = \"epsg:4326\"\n",
    "transformer = Transformer.from_crs(input_proj, output_proj)\n",
    "\n",
    "polygons = {}\n",
    "for shape in shapes:\n",
    "    zip_code = shape.get('properties').get('POSTCODE')    \n",
    "    points = []\n",
    "    for coord in shape.get('geometry').get('coordinates')[0]:\n",
    "        x = coord[0]\n",
    "        y = coord[1]\n",
    "        xy = transformer.transform(x,y)\n",
    "        points.append([xy[1], xy[0]])\n",
    "    try: \n",
    "        polygons[zip_code] = Polygon(points)\n",
    "    except: print(zip_code)"
   ]
  },
  {
   "cell_type": "code",
   "execution_count": 32,
   "metadata": {},
   "outputs": [],
   "source": [
    "with open('zip_code_dict.pickle', 'rb') as handle:\n",
    "    zip_code_dict = pickle.load(handle)"
   ]
  },
  {
   "cell_type": "code",
   "execution_count": 33,
   "metadata": {},
   "outputs": [],
   "source": [
    "g_pickle = \"02_boston-area.gpickle\"\n",
    "g = nx.read_gpickle(g_pickle)\n",
    "for node_data in g.nodes().data():\n",
    "    node_id = node_data[1][\"id\"]\n",
    "    lon,lat = node_data[1]['lon'], node_data[1]['lat']\n",
    "    if node_id in zip_code_dict:\n",
    "        continue\n",
    "    for z in polygons:\n",
    "        polygon = polygons[z]\n",
    "        if polygon.contains(Point(lon,lat)):\n",
    "            zip_code_dict[node_id] = z\n",
    "            break\n",
    "            \n",
    "with open('zip_code_dict.pickle', 'wb') as handle:\n",
    "        pickle.dump(zip_code_dict, handle, protocol=pickle.HIGHEST_PROTOCOL) "
   ]
  },
  {
   "cell_type": "code",
   "execution_count": null,
   "metadata": {},
   "outputs": [],
   "source": []
  },
  {
   "cell_type": "code",
   "execution_count": 34,
   "metadata": {},
   "outputs": [
    {
     "data": {
      "text/plain": [
       "77404"
      ]
     },
     "execution_count": 34,
     "metadata": {},
     "output_type": "execute_result"
    }
   ],
   "source": [
    "len(zip_code_dict)"
   ]
  },
  {
   "cell_type": "code",
   "execution_count": 35,
   "metadata": {},
   "outputs": [
    {
     "data": {
      "text/plain": [
       "96360"
      ]
     },
     "execution_count": 35,
     "metadata": {},
     "output_type": "execute_result"
    }
   ],
   "source": [
    "len(g)"
   ]
  },
  {
   "cell_type": "code",
   "execution_count": null,
   "metadata": {},
   "outputs": [],
   "source": []
  },
  {
   "cell_type": "code",
   "execution_count": null,
   "metadata": {},
   "outputs": [],
   "source": []
  },
  {
   "cell_type": "code",
   "execution_count": null,
   "metadata": {},
   "outputs": [],
   "source": []
  },
  {
   "cell_type": "code",
   "execution_count": null,
   "metadata": {},
   "outputs": [],
   "source": []
  },
  {
   "cell_type": "code",
   "execution_count": 39,
   "metadata": {},
   "outputs": [],
   "source": []
  },
  {
   "cell_type": "code",
   "execution_count": 40,
   "metadata": {},
   "outputs": [],
   "source": []
  },
  {
   "cell_type": "code",
   "execution_count": 42,
   "metadata": {},
   "outputs": [
    {
     "data": {
      "text/plain": [
       "78142"
      ]
     },
     "execution_count": 42,
     "metadata": {},
     "output_type": "execute_result"
    }
   ],
   "source": [
    "len(zip_code_dict)"
   ]
  },
  {
   "cell_type": "code",
   "execution_count": null,
   "metadata": {},
   "outputs": [],
   "source": []
  },
  {
   "cell_type": "markdown",
   "metadata": {},
   "source": [
    "# Populate zip_code_dict from `uszipcode` library's Polygons"
   ]
  },
  {
   "cell_type": "code",
   "execution_count": 41,
   "metadata": {},
   "outputs": [
    {
     "name": "stdout",
     "output_type": "stream",
     "text": [
      "01230\n",
      "01201\n",
      "01590\n",
      "01096\n",
      "01057\n",
      "01083\n",
      "01253\n",
      "01225\n",
      "01011\n",
      "01440\n",
      "01258\n",
      "01604\n",
      "01349\n",
      "01032\n",
      "02638\n",
      "02482\n",
      "01226\n",
      "01062\n",
      "01757\n",
      "01772\n",
      "01262\n",
      "01020\n",
      "02745\n",
      "01534\n",
      "02660\n",
      "02130\n",
      "01588\n",
      "02639\n",
      "02452\n",
      "01611\n",
      "02131\n",
      "02445\n",
      "01902\n",
      "02122\n",
      "01069\n",
      "02071\n",
      "01260\n",
      "02464\n",
      "02663\n",
      "02108\n",
      "01745\n",
      "01438\n",
      "01063\n",
      "01561\n",
      "02723\n",
      "Number still unprocessed: 18218\n",
      "Add the following to the zip_codes set:\n"
     ]
    }
   ],
   "source": [
    "search = SearchEngine(simple_zipcode=False, db_file_dir=\"./zip_code_cache\")\n",
    "zip_codes = [x for x in polygons]\n",
    "\n",
    "bad_zips = []\n",
    "polygons = {}\n",
    "zip_codes_copy = zip_codes.copy()\n",
    "for z in zip_codes_copy:\n",
    "            try: polygons[z] = Polygon(search.by_zipcode(z).polygon)\n",
    "            except: \n",
    "                print(z)\n",
    "                if z not in bad_zips:\n",
    "                    bad_zips.append(z)\n",
    "                zip_codes.remove(z)\n",
    "\n",
    "with open('zip_code_dict_NEW.pickle', 'rb') as handle:\n",
    "    zip_code_dict = pickle.load(handle)\n",
    "\n",
    "for node_data in g.nodes().data():\n",
    "    node_id = node_data[1][\"id\"]\n",
    "    lon,lat = node_data[1]['lon'], node_data[1]['lat']\n",
    "    if node_id in zip_code_dict:\n",
    "        continue\n",
    "    for z in zip_codes:\n",
    "        polygon = polygons[z]\n",
    "        if polygon.contains(Point(lon,lat)):\n",
    "            zip_code_dict[node_id] = z\n",
    "            break\n",
    "            \n",
    "with open('zip_code_dict_NEW.pickle', 'wb') as handle:\n",
    "        pickle.dump(zip_code_dict, handle, protocol=pickle.HIGHEST_PROTOCOL)            \n",
    "        \n",
    "\n",
    "zip_code_dict\n",
    "        \n",
    "unprocessed = []\n",
    "for node_data in g.nodes().data():\n",
    "    node_id = node_data[1][\"id\"]\n",
    "    if node_id not in zip_code_dict:\n",
    "        unprocessed.append(node_id)\n",
    "print(\"Number still unprocessed: \" + str(len(unprocessed)))\n",
    "print(\"Add the following to the zip_codes set:\")"
   ]
  },
  {
   "cell_type": "code",
   "execution_count": 45,
   "metadata": {
    "scrolled": true
   },
   "outputs": [
    {
     "name": "stdout",
     "output_type": "stream",
     "text": [
      "02144\n"
     ]
    }
   ],
   "source": [
    "for polygon in polygons:\n",
    "    if polygons.get(polygon).contains(Point([-71.1191928, 42.4057])):\n",
    "        print(polygon)\n",
    "\n",
    "print(search.by_coordinates(42.4057, -71.1191928, returns=1)[0].zipcode)\n",
    "\n",
    "# print(polygons.get('02143').contains(Point([-71.1191928, 42.4057])))"
   ]
  },
  {
   "cell_type": "code",
   "execution_count": 49,
   "metadata": {},
   "outputs": [],
   "source": [
    "len_g = len(g)"
   ]
  },
  {
   "cell_type": "code",
   "execution_count": 79,
   "metadata": {},
   "outputs": [],
   "source": [
    "def get_zip_code_dict():\n",
    "    g = nx.read_gpickle(\"02_boston-area.gpickle\")\n",
    "    nodes_data_subset = g.nodes().data()\n",
    "    count = 1\n",
    "    with open('zip_code_dict_NEW.pickle', 'rb') as handle:\n",
    "        zip_code_dict = pickle.load(handle)\n",
    "    zip_code_dict = {k: v for k, v in zip_code_dict.items() if v != ''}\n",
    "   \n",
    "\n",
    "    for node_data in g.nodes().data():\n",
    "        node_id = node_data[1][\"id\"]\n",
    "        lon,lat = node_data[1]['lon'], node_data[1]['lat']\n",
    "        if node_id not in zip_code_dict:\n",
    "            count += 1\n",
    "            zip_code_dict[node_id] = search.by_coordinates(lat, lon, returns=1)[0].zipcode\n",
    "            print(zip_code_dict[node_id])\n",
    "            print(str(len(zip_code_dict)) + \"       \"+ str(len(zip_code_dict)/len_g) + \"        ...slow algo alert\")\n",
    "\n",
    "\n",
    "        if count % 25 == 0: \n",
    "            count += 1\n",
    "            print(\"--> Dumping into zip_code_dict.pickle\")\n",
    "            with open('zip_code_dict_NEW.pickle', 'wb') as handle:\n",
    "                pickle.dump(zip_code_dict, handle, protocol=pickle.HIGHEST_PROTOCOL)        \n",
    "\n",
    "    with open('zip_code_dict_NEW.pickle', 'wb') as handle:\n",
    "        pickle.dump(zip_code_dict, handle, protocol=pickle.HIGHEST_PROTOCOL)\n",
    "    return zip_code_dict"
   ]
  },
  {
   "cell_type": "code",
   "execution_count": 80,
   "metadata": {},
   "outputs": [
    {
     "name": "stdout",
     "output_type": "stream",
     "text": [
      "02108\n",
      "96273       0.9990971357409714        ...slow algo alert\n",
      "02108\n",
      "96274       0.9991075134910752        ...slow algo alert\n",
      "02108\n",
      "96275       0.9991178912411789        ...slow algo alert\n",
      "02125\n",
      "96276       0.9991282689912827        ...slow algo alert\n",
      "02125\n",
      "96277       0.9991386467413864        ...slow algo alert\n",
      "02125\n",
      "96278       0.9991490244914902        ...slow algo alert\n",
      "02125\n",
      "96279       0.999159402241594        ...slow algo alert\n",
      "02125\n",
      "96280       0.9991697799916978        ...slow algo alert\n",
      "02125\n",
      "96281       0.9991801577418016        ...slow algo alert\n",
      "02125\n",
      "96282       0.9991905354919054        ...slow algo alert\n",
      "02125\n",
      "96283       0.9992009132420091        ...slow algo alert\n",
      "02108\n",
      "96284       0.9992112909921129        ...slow algo alert\n",
      "02108\n",
      "96285       0.9992216687422167        ...slow algo alert\n",
      "02108\n",
      "96286       0.9992320464923204        ...slow algo alert\n",
      "02108\n",
      "96287       0.9992424242424243        ...slow algo alert\n",
      "02108\n",
      "96288       0.999252801992528        ...slow algo alert\n",
      "02108\n",
      "96289       0.9992631797426318        ...slow algo alert\n",
      "02108\n",
      "96290       0.9992735574927356        ...slow algo alert\n",
      "02108\n",
      "96291       0.9992839352428393        ...slow algo alert\n",
      "02108\n",
      "96292       0.9992943129929431        ...slow algo alert\n",
      "02108\n",
      "96293       0.999304690743047        ...slow algo alert\n",
      "02108\n",
      "96294       0.9993150684931507        ...slow algo alert\n",
      "02108\n",
      "96295       0.9993254462432545        ...slow algo alert\n",
      "02108\n",
      "96296       0.9993358239933582        ...slow algo alert\n",
      "--> Dumping into zip_code_dict.pickle\n",
      "02108\n",
      "96297       0.999346201743462        ...slow algo alert\n",
      "02108\n",
      "96298       0.9993565794935658        ...slow algo alert\n",
      "02108\n",
      "96299       0.9993669572436695        ...slow algo alert\n",
      "02108\n",
      "96300       0.9993773349937733        ...slow algo alert\n",
      "02111\n",
      "96301       0.9993877127438772        ...slow algo alert\n",
      "02111\n",
      "96302       0.9993980904939809        ...slow algo alert\n",
      "02108\n",
      "96303       0.9994084682440847        ...slow algo alert\n",
      "02108\n",
      "96304       0.9994188459941885        ...slow algo alert\n",
      "02108\n",
      "96305       0.9994292237442922        ...slow algo alert\n",
      "02108\n",
      "96306       0.999439601494396        ...slow algo alert\n",
      "02108\n",
      "96307       0.9994499792444997        ...slow algo alert\n",
      "02108\n",
      "96308       0.9994603569946036        ...slow algo alert\n",
      "02108\n",
      "96309       0.9994707347447074        ...slow algo alert\n",
      "02108\n",
      "96310       0.9994811124948111        ...slow algo alert\n",
      "02108\n",
      "96311       0.9994914902449149        ...slow algo alert\n",
      "02108\n",
      "96312       0.9995018679950187        ...slow algo alert\n",
      "02108\n",
      "96313       0.9995122457451224        ...slow algo alert\n",
      "02108\n",
      "96314       0.9995226234952262        ...slow algo alert\n",
      "02108\n",
      "96315       0.9995330012453301        ...slow algo alert\n",
      "02108\n",
      "96316       0.9995433789954338        ...slow algo alert\n",
      "02108\n",
      "96317       0.9995537567455376        ...slow algo alert\n",
      "02108\n",
      "96318       0.9995641344956413        ...slow algo alert\n",
      "02108\n",
      "96319       0.9995745122457451        ...slow algo alert\n",
      "02108\n",
      "96320       0.9995848899958489        ...slow algo alert\n",
      "--> Dumping into zip_code_dict.pickle\n",
      "02108\n",
      "96321       0.9995952677459526        ...slow algo alert\n",
      "02108\n",
      "96322       0.9996056454960565        ...slow algo alert\n",
      "02108\n",
      "96323       0.9996160232461603        ...slow algo alert\n",
      "02108\n",
      "96324       0.999626400996264        ...slow algo alert\n",
      "02108\n",
      "96325       0.9996367787463678        ...slow algo alert\n",
      "02108\n",
      "96326       0.9996471564964715        ...slow algo alert\n",
      "02108\n",
      "96327       0.9996575342465753        ...slow algo alert\n",
      "02108\n",
      "96328       0.9996679119966791        ...slow algo alert\n",
      "02108\n",
      "96329       0.9996782897467829        ...slow algo alert\n",
      "02108\n",
      "96330       0.9996886674968867        ...slow algo alert\n",
      "02108\n",
      "96331       0.9996990452469905        ...slow algo alert\n",
      "02108\n",
      "96332       0.9997094229970942        ...slow algo alert\n",
      "02108\n",
      "96333       0.999719800747198        ...slow algo alert\n",
      "02115\n",
      "96334       0.9997301784973018        ...slow algo alert\n",
      "02199\n",
      "96335       0.9997405562474055        ...slow algo alert\n",
      "02199\n",
      "96336       0.9997509339975094        ...slow algo alert\n",
      "02115\n",
      "96337       0.9997613117476131        ...slow algo alert\n",
      "02115\n",
      "96338       0.9997716894977169        ...slow algo alert\n",
      "02115\n",
      "96339       0.9997820672478207        ...slow algo alert\n",
      "02115\n",
      "96340       0.9997924449979244        ...slow algo alert\n",
      "02115\n",
      "96341       0.9998028227480282        ...slow algo alert\n",
      "02115\n",
      "96342       0.999813200498132        ...slow algo alert\n",
      "02108\n",
      "96343       0.9998235782482358        ...slow algo alert\n",
      "02108\n",
      "96344       0.9998339559983396        ...slow algo alert\n",
      "--> Dumping into zip_code_dict.pickle\n",
      "02108\n",
      "96345       0.9998443337484434        ...slow algo alert\n",
      "02108\n",
      "96346       0.9998547114985471        ...slow algo alert\n",
      "02108\n",
      "96347       0.9998650892486509        ...slow algo alert\n",
      "02108\n",
      "96348       0.9998754669987546        ...slow algo alert\n",
      "02108\n",
      "96349       0.9998858447488584        ...slow algo alert\n",
      "02108\n",
      "96350       0.9998962224989623        ...slow algo alert\n",
      "02108\n",
      "96351       0.999906600249066        ...slow algo alert\n",
      "02108\n",
      "96352       0.9999169779991698        ...slow algo alert\n",
      "02108\n",
      "96353       0.9999273557492736        ...slow algo alert\n",
      "02108\n",
      "96354       0.9999377334993773        ...slow algo alert\n",
      "02108\n",
      "96355       0.9999481112494811        ...slow algo alert\n",
      "02108\n",
      "96356       0.9999584889995848        ...slow algo alert\n",
      "02108\n",
      "96357       0.9999688667496887        ...slow algo alert\n",
      "02108\n",
      "96358       0.9999792444997925        ...slow algo alert\n",
      "02108\n",
      "96359       0.9999896222498962        ...slow algo alert\n",
      "02108\n",
      "96360       1.0        ...slow algo alert\n"
     ]
    },
    {
     "data": {
      "text/plain": [
       "96360"
      ]
     },
     "execution_count": 80,
     "metadata": {},
     "output_type": "execute_result"
    }
   ],
   "source": [
    "len(get_zip_code_dict())"
   ]
  },
  {
   "cell_type": "code",
   "execution_count": null,
   "metadata": {},
   "outputs": [],
   "source": []
  },
  {
   "cell_type": "code",
   "execution_count": null,
   "metadata": {
    "scrolled": false
   },
   "outputs": [],
   "source": []
  },
  {
   "cell_type": "code",
   "execution_count": null,
   "metadata": {},
   "outputs": [],
   "source": []
  },
  {
   "cell_type": "code",
   "execution_count": null,
   "metadata": {},
   "outputs": [],
   "source": []
  },
  {
   "cell_type": "code",
   "execution_count": 92,
   "metadata": {},
   "outputs": [],
   "source": [
    "clean_data = {k: v for k, v in zip_code_dict.items() if v != ''}"
   ]
  },
  {
   "cell_type": "code",
   "execution_count": 93,
   "metadata": {},
   "outputs": [
    {
     "data": {
      "text/plain": [
       "True"
      ]
     },
     "execution_count": 93,
     "metadata": {},
     "output_type": "execute_result"
    }
   ],
   "source": [
    "len(clean_data) == len(zip_code_dict)"
   ]
  },
  {
   "cell_type": "code",
   "execution_count": null,
   "metadata": {},
   "outputs": [],
   "source": []
  },
  {
   "cell_type": "code",
   "execution_count": null,
   "metadata": {},
   "outputs": [],
   "source": []
  },
  {
   "cell_type": "code",
   "execution_count": null,
   "metadata": {},
   "outputs": [],
   "source": []
  }
 ],
 "metadata": {
  "kernelspec": {
   "display_name": "Python 3",
   "language": "python",
   "name": "python3"
  },
  "language_info": {
   "codemirror_mode": {
    "name": "ipython",
    "version": 3
   },
   "file_extension": ".py",
   "mimetype": "text/x-python",
   "name": "python",
   "nbconvert_exporter": "python",
   "pygments_lexer": "ipython3",
   "version": "3.8.5"
  }
 },
 "nbformat": 4,
 "nbformat_minor": 4
}
