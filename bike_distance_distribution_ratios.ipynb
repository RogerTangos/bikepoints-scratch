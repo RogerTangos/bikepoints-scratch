{
 "cells": [
  {
   "cell_type": "code",
   "execution_count": 113,
   "metadata": {},
   "outputs": [],
   "source": [
    "import math\n",
    "import random\n",
    "import matplotlib.pyplot as plt\n",
    "\n",
    "\n",
    "def bike_distance_dist(weight_per_km, min_km, max_km):\n",
    "    return {\"weight\": weight_per_km * (max_km - min_km), \n",
    "            \"min\": min_km,\n",
    "            \"max\": max_km,\n",
    "            \"applies?\": lambda x : min_km <= x < max_km \n",
    "           }\n",
    "\n",
    "# This is all hard-coded and could be noodled around with\n",
    "ratios = {\"500m-1km\":   bike_distance_dist(1, .5, 1),\n",
    "          \"1km-2km\":    bike_distance_dist(10, 1, 2),\n",
    "          \"2km-3km\":    bike_distance_dist(40, 2, 3),\n",
    "          \"3km-5km\":    bike_distance_dist(30, 3, 5),\n",
    "          \"5km-10km\":   bike_distance_dist(20, 5, 10),\n",
    "          \"10km-20km\":  bike_distance_dist(20, 10, 20),\n",
    "          \"10km-40km\":  bike_distance_dist(5, 20, 40),\n",
    "          \"40km-200km\": bike_distance_dist(.1, 40, 200)}\n",
    "\n",
    "weight_sum = sum(val[\"weight\"] for val in ratios.values())\n",
    "for ratio in ratios.values():\n",
    "    ratio[\"percentage\"] = ratio[\"weight\"] / weight_sum"
   ]
  },
  {
   "cell_type": "markdown",
   "metadata": {},
   "source": [
    "## Generate histogram to represent probability distribution (for validation only)"
   ]
  },
  {
   "cell_type": "code",
   "execution_count": 114,
   "metadata": {},
   "outputs": [
    {
     "data": {
      "image/png": "[encoded data removed]",
      "text/plain": [
       "<Figure size 432x288 with 1 Axes>"
      ]
     },
     "metadata": {
      "needs_background": "light"
     },
     "output_type": "display_data"
    }
   ],
   "source": [
    "def generate_validation_histogram():\n",
    "    hist_data = []\n",
    "    total_count = 10000\n",
    "\n",
    "    for ratio in ratios:\n",
    "        num_in_range = math.floor(ratios[ratio][\"percentage\"] * total_count)\n",
    "        for _ in range(num_in_range):\n",
    "            hist_data.append(random.uniform(ratios[ratio][\"min\"], ratios[ratio][\"max\"]))\n",
    "\n",
    "    plt.hist(hist_data, bins=400) \n",
    "    plt.ylabel('Count')\n",
    "    plt.xlabel('kms');\n",
    "        \n",
    "generate_validation_histogram()"
   ]
  },
  {
   "cell_type": "code",
   "execution_count": null,
   "metadata": {},
   "outputs": [],
   "source": []
  },
  {
   "cell_type": "code",
   "execution_count": 115,
   "metadata": {},
   "outputs": [],
   "source": [
    "def bin_by_kms(kms):\n",
    "    return next((k for k, v in ratios.items() if v[\"applies?\"](kms)), None)"
   ]
  },
  {
   "cell_type": "code",
   "execution_count": 116,
   "metadata": {},
   "outputs": [
    {
     "data": {
      "text/plain": [
       "'10km-40km'"
      ]
     },
     "execution_count": 116,
     "metadata": {},
     "output_type": "execute_result"
    }
   ],
   "source": [
    "bin_by_kms(33.1)"
   ]
  },
  {
   "cell_type": "markdown",
   "metadata": {},
   "source": [
    "## Get count per bin for a given sample size"
   ]
  },
  {
   "cell_type": "code",
   "execution_count": 117,
   "metadata": {},
   "outputs": [],
   "source": [
    "def bike_trip_count(num):\n",
    "    \"\"\"For a sample size of num, show how many within distribution should be returned.\n",
    "       Because it round\n",
    "    \"\"\"\n",
    "    return {k:round(v[\"percentage\"] * num) for k,v in ratios.items()}\n",
    "    "
   ]
  },
  {
   "cell_type": "code",
   "execution_count": 118,
   "metadata": {},
   "outputs": [
    {
     "data": {
      "text/plain": [
       "{'500m-1km': 1,\n",
       " '1km-2km': 19,\n",
       " '2km-3km': 76,\n",
       " '3km-5km': 114,\n",
       " '5km-10km': 190,\n",
       " '10km-20km': 380,\n",
       " '10km-40km': 190,\n",
       " '40km-200km': 30}"
      ]
     },
     "execution_count": 118,
     "metadata": {},
     "output_type": "execute_result"
    }
   ],
   "source": [
    "bike_trip_count(1000)"
   ]
  },
  {
   "cell_type": "code",
   "execution_count": null,
   "metadata": {},
   "outputs": [],
   "source": []
  },
  {
   "cell_type": "code",
   "execution_count": null,
   "metadata": {},
   "outputs": [],
   "source": []
  },
  {
   "cell_type": "code",
   "execution_count": null,
   "metadata": {},
   "outputs": [],
   "source": []
  },
  {
   "cell_type": "code",
   "execution_count": null,
   "metadata": {},
   "outputs": [],
   "source": []
  },
  {
   "cell_type": "code",
   "execution_count": null,
   "metadata": {},
   "outputs": [],
   "source": []
  },
  {
   "cell_type": "code",
   "execution_count": null,
   "metadata": {},
   "outputs": [],
   "source": []
  },
  {
   "cell_type": "code",
   "execution_count": null,
   "metadata": {},
   "outputs": [],
   "source": []
  }
 ],
 "metadata": {
  "kernelspec": {
   "display_name": "Python 3",
   "language": "python",
   "name": "python3"
  },
  "language_info": {
   "codemirror_mode": {
    "name": "ipython",
    "version": 3
   },
   "file_extension": ".py",
   "mimetype": "text/x-python",
   "name": "python",
   "nbconvert_exporter": "python",
   "pygments_lexer": "ipython3",
   "version": "3.8.5"
  }
 },
 "nbformat": 4,
 "nbformat_minor": 4
}
