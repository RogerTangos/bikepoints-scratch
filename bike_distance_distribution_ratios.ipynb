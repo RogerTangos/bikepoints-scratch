{
 "cells": [
  {
   "cell_type": "code",
   "execution_count": 75,
   "metadata": {},
   "outputs": [],
   "source": [
    "def bike_distance_dist(weight_per_km, min_km, max_km):\n",
    "    return {\"weight\": weight_per_km * (max_km - min_km), \n",
    "            \"min\": min_km,\n",
    "            \"max\": max_km,\n",
    "            \"applies?\": lambda x : min_km <= x < max_km }"
   ]
  },
  {
   "cell_type": "code",
   "execution_count": 76,
   "metadata": {},
   "outputs": [],
   "source": [
    "ratios = {\"500m-1km\":   bike_distance_dist(5, .5, 1),\n",
    "          \"1km-2km\":    bike_distance_dist(10, 1, 2),\n",
    "          \"2km-3km\":    bike_distance_dist(20, 2, 3),\n",
    "          \"3km-5km\":    bike_distance_dist(20, 3, 5),\n",
    "          \"5km-10km\":   bike_distance_dist(5, 5, 10),\n",
    "          \"10km-40km\":  bike_distance_dist(2, 10, 40),\n",
    "          \"40km-200km\": bike_distance_dist(.1, 40, 200)}"
   ]
  },
  {
   "cell_type": "code",
   "execution_count": 78,
   "metadata": {},
   "outputs": [
    {
     "name": "stdout",
     "output_type": "stream",
     "text": [
      "False\n",
      "True\n"
     ]
    },
    {
     "data": {
      "text/plain": [
       "{'500m-1km': {'weight': 2.5,\n",
       "  'min': 0.5,\n",
       "  'max': 1,\n",
       "  'applies?': <function __main__.bike_distance_dist.<locals>.<lambda>(x)>},\n",
       " '1km-2km': {'weight': 10,\n",
       "  'min': 1,\n",
       "  'max': 2,\n",
       "  'applies?': <function __main__.bike_distance_dist.<locals>.<lambda>(x)>},\n",
       " '2km-3km': {'weight': 20,\n",
       "  'min': 2,\n",
       "  'max': 3,\n",
       "  'applies?': <function __main__.bike_distance_dist.<locals>.<lambda>(x)>},\n",
       " '3km-5km': {'weight': 40,\n",
       "  'min': 3,\n",
       "  'max': 5,\n",
       "  'applies?': <function __main__.bike_distance_dist.<locals>.<lambda>(x)>},\n",
       " '5km-10km': {'weight': 25,\n",
       "  'min': 5,\n",
       "  'max': 10,\n",
       "  'applies?': <function __main__.bike_distance_dist.<locals>.<lambda>(x)>},\n",
       " '10km-40km': {'weight': 60,\n",
       "  'min': 10,\n",
       "  'max': 40,\n",
       "  'applies?': <function __main__.bike_distance_dist.<locals>.<lambda>(x)>},\n",
       " '40km-200km': {'weight': 16.0,\n",
       "  'min': 40,\n",
       "  'max': 200,\n",
       "  'applies?': <function __main__.bike_distance_dist.<locals>.<lambda>(x)>}}"
      ]
     },
     "execution_count": 78,
     "metadata": {},
     "output_type": "execute_result"
    }
   ],
   "source": [
    "\n",
    "print(ratios[\"1km-2km\"][\"applies?\"](2.3))\n",
    "print(ratios[\"1km-2km\"][\"applies?\"](1.9))\n",
    "\n",
    "ratios"
   ]
  },
  {
   "cell_type": "code",
   "execution_count": 99,
   "metadata": {},
   "outputs": [],
   "source": [
    "# def num_dict(sample_num):\n",
    "weight_sum = 0\n",
    "for ratio in ratios:\n",
    "    weight_sum +=  ratios[ratio][\"weight\"]\n",
    "weight_sum\n",
    "\n",
    "for ratio in ratios:\n",
    "    ratios[ratio][\"weight1\"] = ratios[ratio][\"weight\"] / weight_sum"
   ]
  },
  {
   "cell_type": "code",
   "execution_count": 100,
   "metadata": {},
   "outputs": [
    {
     "data": {
      "text/plain": [
       "{'500m-1km': {'weight': 2.5,\n",
       "  'min': 0.5,\n",
       "  'max': 1,\n",
       "  'applies?': <function __main__.bike_distance_dist.<locals>.<lambda>(x)>,\n",
       "  'weight1': 0.01440922190201729},\n",
       " '1km-2km': {'weight': 10,\n",
       "  'min': 1,\n",
       "  'max': 2,\n",
       "  'applies?': <function __main__.bike_distance_dist.<locals>.<lambda>(x)>,\n",
       "  'weight1': 0.05763688760806916},\n",
       " '2km-3km': {'weight': 20,\n",
       "  'min': 2,\n",
       "  'max': 3,\n",
       "  'applies?': <function __main__.bike_distance_dist.<locals>.<lambda>(x)>,\n",
       "  'weight1': 0.11527377521613832},\n",
       " '3km-5km': {'weight': 40,\n",
       "  'min': 3,\n",
       "  'max': 5,\n",
       "  'applies?': <function __main__.bike_distance_dist.<locals>.<lambda>(x)>,\n",
       "  'weight1': 0.23054755043227665},\n",
       " '5km-10km': {'weight': 25,\n",
       "  'min': 5,\n",
       "  'max': 10,\n",
       "  'applies?': <function __main__.bike_distance_dist.<locals>.<lambda>(x)>,\n",
       "  'weight1': 0.1440922190201729},\n",
       " '10km-40km': {'weight': 60,\n",
       "  'min': 10,\n",
       "  'max': 40,\n",
       "  'applies?': <function __main__.bike_distance_dist.<locals>.<lambda>(x)>,\n",
       "  'weight1': 0.345821325648415},\n",
       " '40km-200km': {'weight': 16.0,\n",
       "  'min': 40,\n",
       "  'max': 200,\n",
       "  'applies?': <function __main__.bike_distance_dist.<locals>.<lambda>(x)>,\n",
       "  'weight1': 0.09221902017291066}}"
      ]
     },
     "execution_count": 100,
     "metadata": {},
     "output_type": "execute_result"
    }
   ],
   "source": [
    "ratios"
   ]
  },
  {
   "cell_type": "code",
   "execution_count": 101,
   "metadata": {},
   "outputs": [
    {
     "name": "stdout",
     "output_type": "stream",
     "text": [
      "500m-1km\n",
      "1km-2km\n",
      "2km-3km\n",
      "3km-5km\n",
      "5km-10km\n",
      "10km-40km\n",
      "40km-200km\n"
     ]
    }
   ],
   "source": [
    "hist_data = []\n",
    "total_count = 10000\n",
    "for ratio in ratios:\n",
    "    print(ratio)"
   ]
  },
  {
   "cell_type": "code",
   "execution_count": null,
   "metadata": {},
   "outputs": [],
   "source": []
  }
 ],
 "metadata": {
  "kernelspec": {
   "display_name": "Python 3",
   "language": "python",
   "name": "python3"
  },
  "language_info": {
   "codemirror_mode": {
    "name": "ipython",
    "version": 3
   },
   "file_extension": ".py",
   "mimetype": "text/x-python",
   "name": "python",
   "nbconvert_exporter": "python",
   "pygments_lexer": "ipython3",
   "version": "3.8.5"
  }
 },
 "nbformat": 4,
 "nbformat_minor": 4
}
