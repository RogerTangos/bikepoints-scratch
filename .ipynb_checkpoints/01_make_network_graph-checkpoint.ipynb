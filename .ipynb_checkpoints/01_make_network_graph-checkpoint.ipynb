{
 "cells": [
  {
   "cell_type": "code",
   "execution_count": 1,
   "metadata": {},
   "outputs": [],
   "source": [
    "import copy\n",
    "import urllib.request\n",
    "import random\n",
    "import folium\n",
    "import xml.sax\n",
    "from math import radians, cos, sin, asin, sqrt\n",
    "from pathlib import Path\n",
    "import networkx as nx"
   ]
  },
  {
   "cell_type": "code",
   "execution_count": 2,
   "metadata": {
    "code_folding": [
     0,
     20,
     31
    ]
   },
   "outputs": [],
   "source": [
    "def haversine_distance(lon1, lat1, lon2, lat2, unit_m=True):\n",
    "    \"\"\"\n",
    "    Calculate the great circle distance between two points\n",
    "    on the earth (specified in decimal degrees)\n",
    "    default unit : km\n",
    "    \"\"\"\n",
    "    # convert decimal degrees to radians\n",
    "    lon1, lat1, lon2, lat2 = map(radians, [lon1, lat1, lon2, lat2])\n",
    "\n",
    "    # haversine formula\n",
    "    dlon = lon2 - lon1\n",
    "    dlat = lat2 - lat1\n",
    "    a = sin(dlat / 2)**2 + cos(lat1) * cos(lat2) * sin(dlon / 2)**2\n",
    "    c = 2 * asin(sqrt(a))\n",
    "    r = 6371  # Radius of the Earth in kilometers. Use 3956 for miles\n",
    "    if unit_m:\n",
    "        r *= 1000\n",
    "    return c * r\n",
    "\n",
    "\n",
    "class Node(object):\n",
    "    def __init__(self, id, lon, lat):\n",
    "        self.id = id\n",
    "        self.lon = lon\n",
    "        self.lat = lat\n",
    "        self.tags = {}\n",
    "\n",
    "    def __str__(self):\n",
    "        return \"Node (id : %s) lon : %s, lat : %s \"%(self.id, self.lon, self.lat)\n",
    "\n",
    "\n",
    "class Way(object):\n",
    "    def __init__(self, id, osm):\n",
    "        self.osm = osm\n",
    "        self.id = id\n",
    "        self.nds = []\n",
    "        self.tags = {}\n",
    "\n",
    "    def split(self, dividers):\n",
    "        # slice the node-array using this nifty recursive function\n",
    "        def slice_array(ar, dividers):\n",
    "            for i in range(1,len(ar)-1):\n",
    "                if dividers[ar[i]]>1:\n",
    "                    left = ar[:i+1]\n",
    "                    right = ar[i:]\n",
    "\n",
    "                    rightsliced = slice_array(right, dividers)\n",
    "\n",
    "                    return [left]+rightsliced\n",
    "            return [ar]\n",
    "\n",
    "        slices = slice_array(self.nds, dividers)\n",
    "\n",
    "        # create a way object for each node-array slice\n",
    "        ret = []\n",
    "        i = 0\n",
    "        for slice in slices:\n",
    "            littleway = copy.copy(self)\n",
    "            littleway.id += \"-%d\" % i\n",
    "            littleway.nds = slice\n",
    "            ret.append(littleway)\n",
    "            i += 1\n",
    "\n",
    "        return ret\n",
    "\n"
   ]
  },
  {
   "cell_type": "code",
   "execution_count": 3,
   "metadata": {
    "code_folding": [
     0
    ]
   },
   "outputs": [],
   "source": [
    "class OSM(object):\n",
    "    def __init__(self, osm_xml_data, is_xml_string=True):\n",
    "        \"\"\" File can be either a filename or stream/file object.\n",
    "\n",
    "        set `is_xml_string=False` if osm_xml_data is a filename or a file stream.\n",
    "        \"\"\"\n",
    "        nodes = {}\n",
    "        ways = {}\n",
    "\n",
    "        superself = self\n",
    "\n",
    "        class OSMHandler(xml.sax.ContentHandler):\n",
    "            @classmethod\n",
    "            def setDocumentLocator(self, loc):\n",
    "                pass\n",
    "\n",
    "            @classmethod\n",
    "            def startDocument(self):\n",
    "                pass\n",
    "\n",
    "            @classmethod\n",
    "            def endDocument(self):\n",
    "                pass\n",
    "\n",
    "            @classmethod\n",
    "            def startElement(self, name, attrs):\n",
    "                if name == 'node':\n",
    "                    self.currElem = Node(attrs['id'], float(attrs['lon']), float(attrs['lat']))\n",
    "                elif name == 'way':\n",
    "                    self.currElem = Way(attrs['id'], superself)\n",
    "                elif name == 'tag':\n",
    "                    self.currElem.tags[attrs['k']] = attrs['v']\n",
    "                elif name == 'nd':\n",
    "                    self.currElem.nds.append(attrs['ref'])\n",
    "\n",
    "            @classmethod\n",
    "            def endElement(self, name):\n",
    "                if name == 'node':\n",
    "                    nodes[self.currElem.id] = self.currElem\n",
    "                elif name == 'way':\n",
    "                    ways[self.currElem.id] = self.currElem\n",
    "\n",
    "            @classmethod\n",
    "            def characters(self, chars):\n",
    "                pass\n",
    "\n",
    "        if is_xml_string:\n",
    "            xml.sax.parseString(osm_xml_data, OSMHandler)\n",
    "        else:\n",
    "            with open(osm_xml_data, mode='r') as f:\n",
    "                xml.sax.parse(f, OSMHandler)\n",
    "\n",
    "        self.nodes = nodes\n",
    "        self.ways = ways\n",
    "\n",
    "        # count times each node is used\n",
    "        node_histogram = dict.fromkeys(self.nodes.keys(), 0)\n",
    "        for way in self.ways.values():\n",
    "            if len(way.nds) < 2:  # if a way has only one node, delete it out of the osm collection\n",
    "                del self.ways[way.id]\n",
    "            else:\n",
    "                for node in way.nds:\n",
    "                    node_histogram[node] += 1\n",
    "\n",
    "        # use that histogram to split all ways, replacing the member set of ways\n",
    "        new_ways = {}\n",
    "        for id, way in self.ways.items():\n",
    "            split_ways = way.split(node_histogram)\n",
    "            for split_way in split_ways:\n",
    "                new_ways[split_way.id] = split_way\n",
    "        self.ways = new_ways\n"
   ]
  },
  {
   "cell_type": "code",
   "execution_count": 14,
   "metadata": {},
   "outputs": [],
   "source": [
    "def read_osm(osm_xml_data, is_xml_string=True, only_roads=True):\n",
    "    \"\"\"Read graph in OSM format from file specified by name or by stream object.\n",
    "    Parameters\n",
    "    ----------\n",
    "    filename_or_stream : filename or stream object\n",
    "\n",
    "    Returns\n",
    "    -------\n",
    "    G : Graph\n",
    "\n",
    "    Examples\n",
    "    --------\n",
    "    >>> G=nx.read_osm(nx.download_osm(-122.33,47.60,-122.31,47.61))\n",
    "    >>> import matplotlib.pyplot as plt\n",
    "    >>> plt.plot([G.node[n]['lat']for n in G], [G.node[n]['lon'] for n in G], 'o', color='k')\n",
    "    >>> plt.show()\n",
    "    \"\"\"\n",
    "    osm = OSM(osm_xml_data, is_xml_string=is_xml_string)\n",
    "    G = nx.DiGraph()\n",
    "\n",
    "    ## Add ways\n",
    "    for w in osm.ways.values():\n",
    "        if only_roads and 'highway' not in w.tags:\n",
    "            continue\n",
    "          \n",
    "        if ('oneway' in w.tags):\n",
    "            if (w.tags['oneway'] == 'yes'):\n",
    "                # ONLY ONE DIRECTION\n",
    "                nx.add_path(G, w.nds, id=w.id, tags=w.tags)\n",
    "            else:\n",
    "                # BOTH DIRECTION\n",
    "                nx.add_path(G, w.nds, id=w.id, tags=w.tags)\n",
    "                nx.add_path(G, w.nds[::-1], id=w.id, tags=w.tags)\n",
    "        else:\n",
    "            # BOTH DIRECTION\n",
    "            nx.add_path(G, w.nds, id=w.id, tags=w.tags)\n",
    "            nx.add_path(G, w.nds[::-1], id=w.id, tags=w.tags)\n",
    "\n",
    "    # Complete the used nodes' information\n",
    "    coordinates_map = {}\n",
    "    for n_id in G.nodes():\n",
    "        n = osm.nodes[n_id]\n",
    "        G.nodes[n_id]['lat'] = n.lat\n",
    "        G.nodes[n_id]['lon'] = n.lon\n",
    "        G.nodes[n_id]['id'] = n.id\n",
    "        G.nodes[n_id]['tags'] = n.tags\n",
    "        coordinates_map[n_id] = (n.lon, n.lat)\n",
    "\n",
    "    # Estimate the length of each way\n",
    "    for u, v, d in G.edges(data=True):\n",
    "        distance = haversine_distance(G.nodes[u]['lon'], G.nodes[u]['lat'], G.nodes[v]['lon'], G.nodes[v]['lat'], unit_m=True)  # Give a realistic distance estimation (neither EPSG nor projection nor reference system are specified)\n",
    "\n",
    "        G.add_weighted_edges_from([(u, v, distance)], weight='havlen')\n",
    "\n",
    "    G = nx.relabel_nodes(G, coordinates_map)\n",
    "    return G\n"
   ]
  },
  {
   "cell_type": "code",
   "execution_count": 15,
   "metadata": {},
   "outputs": [],
   "source": [
    "g = read_osm(\"./cambridge-small.osm\", is_xml_string=False)"
   ]
  },
  {
   "cell_type": "code",
   "execution_count": 16,
   "metadata": {},
   "outputs": [
    {
     "data": {
      "text/plain": [
       "346"
      ]
     },
     "execution_count": 16,
     "metadata": {},
     "output_type": "execute_result"
    }
   ],
   "source": [
    "len(g.nodes)"
   ]
  },
  {
   "cell_type": "markdown",
   "metadata": {},
   "source": [
    "# Write to Disk"
   ]
  },
  {
   "cell_type": "code",
   "execution_count": 18,
   "metadata": {},
   "outputs": [],
   "source": [
    "nx.write_gpickle(g, \"01_cambridge-small.gpickle\")"
   ]
  },
  {
   "cell_type": "markdown",
   "metadata": {},
   "source": [
    "# Dictionary of Tags"
   ]
  },
  {
   "cell_type": "code",
   "execution_count": 10,
   "metadata": {},
   "outputs": [],
   "source": [
    "tags = {}\n",
    "osm = OSM('./cambridge.xml', is_xml_string=False)\n",
    "\n",
    "for w in osm.ways.values():\n",
    "    for t in w.tags:\n",
    "        if tags.get(t):\n",
    "            tags[t] = tags[t] + 1\n",
    "        else:\n",
    "            tags[t] = 1"
   ]
  },
  {
   "cell_type": "code",
   "execution_count": null,
   "metadata": {},
   "outputs": [],
   "source": [
    "tags"
   ]
  },
  {
   "cell_type": "code",
   "execution_count": null,
   "metadata": {},
   "outputs": [],
   "source": []
  },
  {
   "cell_type": "markdown",
   "metadata": {},
   "source": [
    "# Cruft - DO NOT EDIT BELOW. USE OTHER NOTEBOOK"
   ]
  },
  {
   "cell_type": "markdown",
   "metadata": {},
   "source": [
    "# Print map"
   ]
  },
  {
   "cell_type": "code",
   "execution_count": 90,
   "metadata": {},
   "outputs": [],
   "source": [
    "g = nx.read_gpickle(\"cambridge-small.gpickle\")"
   ]
  },
  {
   "cell_type": "markdown",
   "metadata": {},
   "source": [
    "## Voterrank (just for PoC)"
   ]
  },
  {
   "cell_type": "code",
   "execution_count": 91,
   "metadata": {
    "scrolled": true
   },
   "outputs": [
    {
     "data": {
      "text/html": [
       "<div style=\"width:100%;\"><div style=\"position:relative;width:100%;height:0;padding-bottom:60%;\"><span style=\"color:#565656\">Make this Notebook Trusted to load map: File -> Trust Notebook</span><iframe src=\"about:blank\" style=\"position:absolute;width:100%;height:100%;left:0;top:0;border:none !important;\" data-html=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 onload=\"this.contentDocument.open();this.contentDocument.write(atob(this.getAttribute('data-html')));this.contentDocument.close();\" allowfullscreen webkitallowfullscreen mozallowfullscreen></iframe></div></div>"
      ],
      "text/plain": [
       "<folium.folium.Map at 0x148abd610>"
      ]
     },
     "execution_count": 91,
     "metadata": {},
     "output_type": "execute_result"
    }
   ],
   "source": [
    "m = folium.Map(location = [42.374253,-71.0938267], zoom_start=13)\n",
    "nodes_subset = networkx.algorithms.centrality.voterank(g, number_of_nodes=10)\n",
    "\n",
    "for node in nodes_subset:\n",
    "    lon,lat = node\n",
    "    m.add_child(folium.Marker(location=[lat,lon],popup=node_id))\n",
    "    \n",
    "m"
   ]
  },
  {
   "cell_type": "markdown",
   "metadata": {},
   "source": [
    "## Betweenness centrality"
   ]
  },
  {
   "cell_type": "code",
   "execution_count": 92,
   "metadata": {},
   "outputs": [
    {
     "data": {
      "text/html": [
       "<div style=\"width:100%;\"><div style=\"position:relative;width:100%;height:0;padding-bottom:60%;\"><span style=\"color:#565656\">Make this Notebook Trusted to load map: File -> Trust Notebook</span><iframe src=\"about:blank\" style=\"position:absolute;width:100%;height:100%;left:0;top:0;border:none !important;\" data-html=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 onload=\"this.contentDocument.open();this.contentDocument.write(atob(this.getAttribute('data-html')));this.contentDocument.close();\" allowfullscreen webkitallowfullscreen mozallowfullscreen></iframe></div></div>"
      ],
      "text/plain": [
       "<folium.folium.Map at 0x148abdee0>"
      ]
     },
     "execution_count": 92,
     "metadata": {},
     "output_type": "execute_result"
    }
   ],
   "source": [
    "m = folium.Map(location = [42.374253,-71.0938267], zoom_start=13)\n",
    "nodes_subset = networkx.algorithms.centrality.betweenness_centrality(g)\n",
    "\n",
    "for lon_lat in nodes_subset:\n",
    "    if nodes_subset.get(lon_lat, 0) > .2:\n",
    "        lon,lat = lon_lat\n",
    "        m.add_child(folium.Marker(location=[lat,lon]))\n",
    "        \n",
    "m"
   ]
  },
  {
   "cell_type": "markdown",
   "metadata": {},
   "source": [
    "## Map with PolyLine (just because)"
   ]
  },
  {
   "cell_type": "code",
   "execution_count": 93,
   "metadata": {},
   "outputs": [
    {
     "data": {
      "text/html": [
       "<div style=\"width:100%;\"><div style=\"position:relative;width:100%;height:0;padding-bottom:60%;\"><span style=\"color:#565656\">Make this Notebook Trusted to load map: File -> Trust Notebook</span><iframe src=\"about:blank\" style=\"position:absolute;width:100%;height:100%;left:0;top:0;border:none !important;\" data-html=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 onload=\"this.contentDocument.open();this.contentDocument.write(atob(this.getAttribute('data-html')));this.contentDocument.close();\" allowfullscreen webkitallowfullscreen mozallowfullscreen></iframe></div></div>"
      ],
      "text/plain": [
       "<folium.folium.Map at 0x13fe1c7c0>"
      ]
     },
     "execution_count": 93,
     "metadata": {},
     "output_type": "execute_result"
    }
   ],
   "source": [
    "m = folium.Map(location = [42.374253,-71.0938267], zoom_start=13)\n",
    "nodes_subset = random.sample(g.nodes.data(), 10)\n",
    "node_walk = []\n",
    "\n",
    "for node in nodes_subset:\n",
    "    node_id = node[1][\"id\"]\n",
    "    lon_lat = node[0]\n",
    "    lon,lat = lon_lat\n",
    "\n",
    "    #For each node, add a marker on the map\n",
    "    m.add_child(folium.Marker(location=[lat,lon],popup=node_id))\n",
    "\n",
    "    #For each node, add it as a destination on the PolyLine walk.\n",
    "    #To really have a realistic route (i.e. not \"as the crow flies\") you'd need \n",
    "    # as many intermediary steps as possible if you were doing it just with points.\n",
    "    # But I'm sure it can take GIS edge information too--haven't looked at the edge data\n",
    "    node_walk.append([lat,lon])\n",
    "\n",
    "\n",
    "m.add_child(folium.PolyLine(locations = node_walk[:3], line_opacity = 0.5, color=\"blue\"))\n",
    "m.add_child(folium.PolyLine(locations = node_walk[5:], line_opacity = 0.5, color=\"red\"))\n",
    "\n",
    "\n",
    "m"
   ]
  },
  {
   "cell_type": "code",
   "execution_count": null,
   "metadata": {},
   "outputs": [],
   "source": []
  },
  {
   "cell_type": "code",
   "execution_count": null,
   "metadata": {},
   "outputs": [],
   "source": []
  },
  {
   "cell_type": "code",
   "execution_count": null,
   "metadata": {},
   "outputs": [],
   "source": []
  },
  {
   "cell_type": "code",
   "execution_count": null,
   "metadata": {},
   "outputs": [],
   "source": []
  },
  {
   "cell_type": "code",
   "execution_count": null,
   "metadata": {},
   "outputs": [],
   "source": []
  }
 ],
 "metadata": {
  "kernelspec": {
   "display_name": "bikepoints",
   "language": "python",
   "name": "bikepoints"
  },
  "language_info": {
   "codemirror_mode": {
    "name": "ipython",
    "version": 3
   },
   "file_extension": ".py",
   "mimetype": "text/x-python",
   "name": "python",
   "nbconvert_exporter": "python",
   "pygments_lexer": "ipython3",
   "version": "3.7.0"
  },
  "varInspector": {
   "cols": {
    "lenName": 16,
    "lenType": 16,
    "lenVar": 40
   },
   "kernels_config": {
    "python": {
     "delete_cmd_postfix": "",
     "delete_cmd_prefix": "del ",
     "library": "var_list.py",
     "varRefreshCmd": "print(var_dic_list())"
    },
    "r": {
     "delete_cmd_postfix": ") ",
     "delete_cmd_prefix": "rm(",
     "library": "var_list.r",
     "varRefreshCmd": "cat(var_dic_list()) "
    }
   },
   "types_to_exclude": [
    "module",
    "function",
    "builtin_function_or_method",
    "instance",
    "_Feature"
   ],
   "window_display": false
  }
 },
 "nbformat": 4,
 "nbformat_minor": 4
}
