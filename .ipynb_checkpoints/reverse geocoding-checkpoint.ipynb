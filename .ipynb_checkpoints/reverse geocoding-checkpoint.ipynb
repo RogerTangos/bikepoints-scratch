{
 "cells": [
  {
   "cell_type": "code",
   "execution_count": 34,
   "metadata": {},
   "outputs": [],
   "source": [
    "import os\n",
    "from threading import Thread\n",
    "from queue import Queue\n",
    "from urllib import parse as urllib_parse\n",
    "\n",
    "import networkx as nx\n",
    "\n",
    "from secret import GOOGLE_API_KEY\n",
    "from vars import DATASET\n"
   ]
  },
  {
   "cell_type": "code",
   "execution_count": 35,
   "metadata": {},
   "outputs": [],
   "source": [
    "g = nx.read_gpickle(\"01_\" + DATASET + \".gpickle\")"
   ]
  },
  {
   "cell_type": "code",
   "execution_count": 38,
   "metadata": {},
   "outputs": [
    {
     "data": {
      "text/plain": [
       "{'lat': 42.3669873, 'lon': -71.022537, 'id': '325383304', 'tags': {}}"
      ]
     },
     "execution_count": 38,
     "metadata": {},
     "output_type": "execute_result"
    }
   ],
   "source": [
    "g.nodes()['325383304']"
   ]
  },
  {
   "cell_type": "code",
   "execution_count": 49,
   "metadata": {},
   "outputs": [
    {
     "data": {
      "text/plain": [
       "['325383304']"
      ]
     },
     "execution_count": 49,
     "metadata": {},
     "output_type": "execute_result"
    }
   ],
   "source": [
    "[x for x in g.nodes()][0:1]"
   ]
  },
  {
   "cell_type": "code",
   "execution_count": 50,
   "metadata": {},
   "outputs": [],
   "source": []
  },
  {
   "cell_type": "code",
   "execution_count": 53,
   "metadata": {},
   "outputs": [],
   "source": [
    "class GeolocationWorker(Thread):\n",
    "\n",
    "    def __init__(self, queue):\n",
    "        Thread.__init__(self)\n",
    "        self.queue = queue\n",
    "        self.api_key = GOOGLE_API_KEY\n",
    "\n",
    "    def get_location_data(self, coords):\n",
    "\n",
    "        if self.api_key == \"\":\n",
    "            print(\"Please enter an api key!\")\n",
    "            raise ValueError\n",
    "\n",
    "        \n",
    "        \n",
    "\n",
    "            \n",
    "        URI = (\n",
    "            'https://maps.googleapis.com/maps/api/geocode/json?'\n",
    "            'latlng=%s,%s&key=%s' % (coords[1], coords[2], self.api_key))\n",
    "        \n",
    "        import pdb; pdb.set_trace()\n",
    "        \n",
    "        res = requests.get(URI)\n",
    "\n",
    "        content = res.json()\n",
    "\n",
    "        if content.get(\"error_message\"):\n",
    "            print('ERROR MESSAGE')\n",
    "            \n",
    "\n",
    "        relative_path = os.path.join('geocoded.json')\n",
    "\n",
    "        # edit content, b/c that's what will be writen to the file\n",
    "        content['timestamp'] = datetime.datetime.now().isoformat()\n",
    "\n",
    "        # write file\n",
    "        new_file = open(relative_path, 'w')\n",
    "        new_file.write(str(json.dumps(content, sort_keys=True, indent=4)))\n",
    "        new_file.close()\n",
    "\n",
    "\n",
    "    def run(self):\n",
    "        data_to_consume = True\n",
    "        while data_to_consume:\n",
    "            # get work from queue\n",
    "            coords = self.queue.get()\n",
    "\n",
    "            self.get_location_data(coords)\n",
    "\n",
    "            # signal you're done\n",
    "            self.queue.task_done()\n",
    "\n",
    "            # this is fine since, the queue size is\n",
    "            # of a finite size when we start our threads\n",
    "            if self.queue.qsize() == 0:\n",
    "                data_to_consume = False\n",
    "\n",
    "\n",
    "\n"
   ]
  },
  {
   "cell_type": "code",
   "execution_count": 55,
   "metadata": {},
   "outputs": [
    {
     "name": "stdout",
     "output_type": "stream",
     "text": [
      "> \u001b[0;32m<ipython-input-53-86a3dcfc99f6>\u001b[0m(19)\u001b[0;36mget_location_data\u001b[0;34m()\u001b[0m\n",
      "\u001b[0;32m     17 \u001b[0;31m\u001b[0;34m\u001b[0m\u001b[0m\n",
      "\u001b[0m\u001b[0;32m     18 \u001b[0;31m        URI = (\n",
      "\u001b[0m\u001b[0;32m---> 19 \u001b[0;31m            \u001b[0;34m'https://maps.googleapis.com/maps/api/geocode/json?'\u001b[0m\u001b[0;34m\u001b[0m\u001b[0m\n",
      "\u001b[0m\u001b[0;32m     20 \u001b[0;31m            'latlng=%s,%s&key=%s' % (coords[1], coords[2], self.api_key))\n",
      "\u001b[0m\u001b[0;32m     21 \u001b[0;31m\u001b[0;34m\u001b[0m\u001b[0m\n",
      "\u001b[0m\n",
      "ipdb> "
     ]
    }
   ],
   "source": [
    "q = Queue()\n",
    "        \n",
    "for node in [x for x in g.nodes()][0:1]:\n",
    "    lat, lon = g.nodes()[node]['lat'], g.nodes()[node]['lon']\n",
    "\n",
    "    q.put((node, lat, lon))\n",
    "\n",
    "# setup consumers and start\n",
    "for i in range(4):\n",
    "    worker = GeolocationWorker(q)\n",
    "    worker.daemon = False\n",
    "    worker.start()\n"
   ]
  },
  {
   "cell_type": "code",
   "execution_count": null,
   "metadata": {},
   "outputs": [],
   "source": []
  }
 ],
 "metadata": {
  "kernelspec": {
   "display_name": "bikepoints",
   "language": "python",
   "name": "bikepoints"
  },
  "language_info": {
   "codemirror_mode": {
    "name": "ipython",
    "version": 3
   },
   "file_extension": ".py",
   "mimetype": "text/x-python",
   "name": "python",
   "nbconvert_exporter": "python",
   "pygments_lexer": "ipython3",
   "version": "3.7.0"
  },
  "varInspector": {
   "cols": {
    "lenName": 16,
    "lenType": 16,
    "lenVar": 40
   },
   "kernels_config": {
    "python": {
     "delete_cmd_postfix": "",
     "delete_cmd_prefix": "del ",
     "library": "var_list.py",
     "varRefreshCmd": "print(var_dic_list())"
    },
    "r": {
     "delete_cmd_postfix": ") ",
     "delete_cmd_prefix": "rm(",
     "library": "var_list.r",
     "varRefreshCmd": "cat(var_dic_list()) "
    }
   },
   "types_to_exclude": [
    "module",
    "function",
    "builtin_function_or_method",
    "instance",
    "_Feature"
   ],
   "window_display": false
  }
 },
 "nbformat": 4,
 "nbformat_minor": 4
}
