{
 "cells": [
  {
   "cell_type": "code",
   "execution_count": 9,
   "metadata": {},
   "outputs": [],
   "source": [
    "import random\n",
    "import csv\n",
    "from math import radians, cos, sin, asin, sqrt\n",
    "\n",
    "import networkx as nx\n",
    "import pickle as pkl\n",
    "import pandas as pd\n",
    "\n",
    "\n",
    "from vars import DATASET"
   ]
  },
  {
   "cell_type": "code",
   "execution_count": 7,
   "metadata": {},
   "outputs": [
    {
     "data": {
      "text/plain": [
       "'cambridge-small'"
      ]
     },
     "execution_count": 7,
     "metadata": {},
     "output_type": "execute_result"
    }
   ],
   "source": [
    "DATASET"
   ]
  },
  {
   "cell_type": "code",
   "execution_count": 8,
   "metadata": {},
   "outputs": [],
   "source": [
    "g = nx.read_gpickle(\"./data/01_\" + DATASET + \".gpickle\")"
   ]
  },
  {
   "cell_type": "markdown",
   "metadata": {},
   "source": [
    "# tag nodes with zipcodes, population, and total graph pop"
   ]
  },
  {
   "cell_type": "code",
   "execution_count": 99,
   "metadata": {},
   "outputs": [],
   "source": [
    "zipcode_dict = {}"
   ]
  },
  {
   "cell_type": "code",
   "execution_count": 100,
   "metadata": {},
   "outputs": [],
   "source": [
    "# add nodes for each zipcode\n",
    "with open('./data/zipcode/zipcodes_boston-metro.csv', newline='') as f:\n",
    "    csvreader = csv.reader(f, delimiter=',')\n",
    "    next(csvreader) # skip header\n",
    "    for row in csvreader:\n",
    "        node_id, zipcode = row[0], row[1]\n",
    "        \n",
    "        if zipcode_dict.get(zipcode) is not None:\n",
    "            zipcode_dict[zipcode]['ids'] = zipcode_dict[zipcode]['ids'] + [node_id]\n",
    "        else:\n",
    "            zipcode_dict[zipcode] = {}\n",
    "            zipcode_dict[zipcode]['population'] = 0\n",
    "            zipcode_dict[zipcode]['ids'] = [node_id]"
   ]
  },
  {
   "cell_type": "code",
   "execution_count": 101,
   "metadata": {},
   "outputs": [],
   "source": [
    "# add the population data\n",
    "# from https://worldpopulationreview.com/zips/massachusetts\n",
    "with open('./data/zipcode/population_by_zip_2020.csv', newline='') as f:\n",
    "    csvreader = csv.reader(f, delimiter=',')\n",
    "    next(csvreader) # skip header\n",
    "    for row in csvreader:\n",
    "        population, zipcode = int(row[3]), row[0].zfill(5) # 5 digit zipcode\n",
    "        \n",
    "        if zipcode_dict.get(zipcode):\n",
    "            zipcode_dict[zipcode]['population'] = population\n"
   ]
  },
  {
   "cell_type": "code",
   "execution_count": 102,
   "metadata": {},
   "outputs": [],
   "source": [
    "# tag nodes with the zipcode\n",
    "# compute total population visible in the graph (to add later)\n",
    "for zipcode, inner_dict in zipcode_dict.items():\n",
    "    population = inner_dict['population']\n",
    "    nodes = inner_dict['ids']\n",
    "    \n",
    "    for node in nodes:\n",
    "        \n",
    "        # the zipcode dictionary may have nodes not contained in\n",
    "        # the particular dataset\n",
    "        if g.nodes.get(node):\n",
    "            g.nodes()[node]['zipcode'] = zipcode\n",
    "            g.nodes()[node]['population'] = population\n",
    "            \n",
    "#             g.nodes()[node]['total_graph_area_pop'] = total_population"
   ]
  },
  {
   "cell_type": "code",
   "execution_count": 103,
   "metadata": {},
   "outputs": [],
   "source": [
    "a = set(['a', 'b', 'c'])\n",
    "b = set(['d'])\n",
    "c = set(['c'])"
   ]
  },
  {
   "cell_type": "code",
   "execution_count": 110,
   "metadata": {},
   "outputs": [
    {
     "data": {
      "text/plain": [
       "1"
      ]
     },
     "execution_count": 110,
     "metadata": {},
     "output_type": "execute_result"
    }
   ],
   "source": [
    "len(c.intersection(a))"
   ]
  },
  {
   "cell_type": "code",
   "execution_count": null,
   "metadata": {},
   "outputs": [],
   "source": [
    "c in a"
   ]
  },
  {
   "cell_type": "code",
   "execution_count": 109,
   "metadata": {},
   "outputs": [
    {
     "data": {
      "text/plain": [
       "{'2681390269',\n",
       " '2681390273',\n",
       " '2681390275',\n",
       " '2681390277',\n",
       " '2681390278',\n",
       " '2681390280',\n",
       " '2681408394',\n",
       " '2681408404',\n",
       " '2681408410',\n",
       " '2681408423',\n",
       " '2681408448',\n",
       " '2681408456',\n",
       " '2681408484',\n",
       " '2682537240',\n",
       " '2682537242',\n",
       " '2682537245',\n",
       " '276249698',\n",
       " '347921313',\n",
       " '347921314',\n",
       " '347921317',\n",
       " '347921321',\n",
       " '347921324',\n",
       " '347921325',\n",
       " '347921329',\n",
       " '347921332',\n",
       " '347921341',\n",
       " '3519311846',\n",
       " '3519311847',\n",
       " '3519311848',\n",
       " '3519311849',\n",
       " '3519311850',\n",
       " '3519311854',\n",
       " '3687642803',\n",
       " '4185277099',\n",
       " '4965812669',\n",
       " '4965812670',\n",
       " '4978261262',\n",
       " '4978261263',\n",
       " '4978261264',\n",
       " '4978261265',\n",
       " '4978261266',\n",
       " '4978261267',\n",
       " '540001526',\n",
       " '540001527',\n",
       " '541336191',\n",
       " '541336192',\n",
       " '5458232833',\n",
       " '5458232834',\n",
       " '5458232835',\n",
       " '5458232836',\n",
       " '5458365624',\n",
       " '566889783',\n",
       " '566889864',\n",
       " '567769806',\n",
       " '567769808',\n",
       " '567777293',\n",
       " '567777297',\n",
       " '568128732',\n",
       " '5851090174',\n",
       " '6114648250',\n",
       " '6114648251',\n",
       " '6114648252',\n",
       " '6114648253',\n",
       " '61283119',\n",
       " '61283126',\n",
       " '61283287',\n",
       " '61283300',\n",
       " '61283345',\n",
       " '61317333',\n",
       " '61317398',\n",
       " '61317399',\n",
       " '61317400',\n",
       " '61317551',\n",
       " '61317553',\n",
       " '61317649',\n",
       " '61317651',\n",
       " '61318589',\n",
       " '61318592',\n",
       " '61320984',\n",
       " '61321123',\n",
       " '61321125',\n",
       " '61321132',\n",
       " '61321134',\n",
       " '61321144',\n",
       " '61321218',\n",
       " '61321474',\n",
       " '61321698',\n",
       " '61322052',\n",
       " '61322643',\n",
       " '61322647',\n",
       " '61322858',\n",
       " '61322865',\n",
       " '61322868',\n",
       " '61322871',\n",
       " '61322874',\n",
       " '61322877',\n",
       " '61322880',\n",
       " '61322884',\n",
       " '61322888',\n",
       " '61322898',\n",
       " '61322905',\n",
       " '61323024',\n",
       " '61323378',\n",
       " '61323382',\n",
       " '61323453',\n",
       " '61323454',\n",
       " '61324562',\n",
       " '61324566',\n",
       " '61324619',\n",
       " '61326949',\n",
       " '61326955',\n",
       " '61326958',\n",
       " '61326968',\n",
       " '61326970',\n",
       " '61326974',\n",
       " '61326975',\n",
       " '61326981',\n",
       " '61326985',\n",
       " '61326987',\n",
       " '61326988',\n",
       " '61327028',\n",
       " '61327033',\n",
       " '61327037',\n",
       " '61327065',\n",
       " '61327071',\n",
       " '61327080',\n",
       " '61327082',\n",
       " '61327094',\n",
       " '61327098',\n",
       " '61327100',\n",
       " '61327102',\n",
       " '61327104',\n",
       " '61327115',\n",
       " '61327117',\n",
       " '61327122',\n",
       " '61327276',\n",
       " '61327573',\n",
       " '61327634',\n",
       " '61327663',\n",
       " '61328014',\n",
       " '61328016',\n",
       " '61328018',\n",
       " '61328020',\n",
       " '61328029',\n",
       " '61328033',\n",
       " '61328036',\n",
       " '61328038',\n",
       " '61328055',\n",
       " '61328057',\n",
       " '61328060',\n",
       " '61328062',\n",
       " '61328066',\n",
       " '61328068',\n",
       " '61328070',\n",
       " '61328072',\n",
       " '61328087',\n",
       " '61328091',\n",
       " '61328093',\n",
       " '61328095',\n",
       " '61328097',\n",
       " '61328099',\n",
       " '61328101',\n",
       " '61328103',\n",
       " '61328115',\n",
       " '61328117',\n",
       " '61328119',\n",
       " '61328128',\n",
       " '61328710',\n",
       " '61328754',\n",
       " '61329647',\n",
       " '61329824',\n",
       " '61329850',\n",
       " '61329864',\n",
       " '61329879',\n",
       " '61330797',\n",
       " '61330815',\n",
       " '61331756',\n",
       " '61331811',\n",
       " '61331832',\n",
       " '61331837',\n",
       " '61331841',\n",
       " '61331850',\n",
       " '61331901',\n",
       " '61332332',\n",
       " '61332447',\n",
       " '61332448',\n",
       " '61332480',\n",
       " '61332703',\n",
       " '61332977',\n",
       " '61332999',\n",
       " '61333001',\n",
       " '61333690',\n",
       " '621117407',\n",
       " '621117424',\n",
       " '6594863534',\n",
       " '6594863535',\n",
       " '6594977019',\n",
       " '6940324440',\n",
       " '6940324449',\n",
       " '6940324452',\n",
       " '6940324454',\n",
       " '6940324463',\n",
       " '699540844',\n",
       " '7069459786',\n",
       " '7069459788',\n",
       " '7070950392',\n",
       " '7096286699',\n",
       " '7130577059',\n",
       " '7130577060',\n",
       " '7746087713',\n",
       " '7746087886',\n",
       " '7802019435',\n",
       " '7802019440',\n",
       " '7802019445',\n",
       " '7802019447',\n",
       " '7802019450',\n",
       " '7802019452',\n",
       " '7802219147',\n",
       " '7802219159',\n",
       " '7802219169',\n",
       " '827127479',\n",
       " '827127480',\n",
       " '827127482',\n",
       " '827127484',\n",
       " '827127489'}"
      ]
     },
     "execution_count": 109,
     "metadata": {},
     "output_type": "execute_result"
    }
   ],
   "source": []
  },
  {
   "cell_type": "code",
   "execution_count": 111,
   "metadata": {},
   "outputs": [
    {
     "data": {
      "text/plain": [
       "True"
      ]
     },
     "execution_count": 111,
     "metadata": {},
     "output_type": "execute_result"
    }
   ],
   "source": [
    "total_pop_dict = {}\n",
    "total_pop_dict.get('a', True)"
   ]
  },
  {
   "cell_type": "code",
   "execution_count": 117,
   "metadata": {},
   "outputs": [
    {
     "data": {
      "text/plain": [
       "96531"
      ]
     },
     "execution_count": 117,
     "metadata": {},
     "output_type": "execute_result"
    }
   ],
   "source": [
    "# compute total population visible in graph\n",
    "total_pop_dict = {}\n",
    "all_nodes_set = set(g.nodes())\n",
    "\n",
    "# populate a dictionary of zipcodes in use, and their populations\n",
    "for zipcode, inner_dict in zipcode_dict.items():\n",
    "    population = inner_dict['population']\n",
    "    nodes = set(inner_dict['ids'])\n",
    "    \n",
    "    # if the zipcode hasn't gotten its population yet, and the nodes intersect with the graph\n",
    "    if total_pop_dict.get(zipcode, True) and len(nodes.intersection(all_nodes_set)) > 0:\n",
    "        total_pop_dict[zipcode] = population\n",
    "\n",
    "# sum the values of the dictionary to get the total map population\n",
    "total_population = sum([v for k, v in total_pop_dict.items()])\n",
    "        \n",
    "# add the total population to graph nodes\n"
   ]
  },
  {
   "cell_type": "code",
   "execution_count": 115,
   "metadata": {},
   "outputs": [
    {
     "data": {
      "text/plain": [
       "{'02139': 38272, '02138': 38835, '02134': 19424}"
      ]
     },
     "execution_count": 115,
     "metadata": {},
     "output_type": "execute_result"
    }
   ],
   "source": [
    "total_pop_dict"
   ]
  },
  {
   "cell_type": "markdown",
   "metadata": {},
   "source": [
    "# Dijkstra from Central Nodes"
   ]
  },
  {
   "cell_type": "code",
   "execution_count": 21,
   "metadata": {},
   "outputs": [],
   "source": [
    "# give every node an empty zipcode dictionary\n",
    "for node in g.nodes():\n",
    "    g.nodes()[node]['zipcodes'] = {}"
   ]
  },
  {
   "cell_type": "code",
   "execution_count": 24,
   "metadata": {},
   "outputs": [],
   "source": [
    "# in testing, cutoff of 1000 does not affect the boston graph. The max distance represented is 23 km.\n",
    "# a reasoanble cutoff for a larger graph might be 5000, representing 100 km.\n",
    "def record_lenghts_from_source(zipcode, node_id, weight='havlen', cutoff=5000):\n",
    "    \"\"\"\n",
    "    given a zipcode and a node_id, compute the distance from the node_id to\n",
    "    all other nodes on the graph. Then, record this information in nodes,\n",
    "    keyed to the zipcode.\n",
    "    \n",
    "    Returns lengths and paths, which may be convenient for analysis reasons.\n",
    "    \"\"\"\n",
    "    \n",
    "    lengths, paths = nx.single_source_dijkstra(g, node_id, weight=weight, cutoff=cutoff)\n",
    "    \n",
    "    for k, v in lenghts.items():\n",
    "        g.nodes()[k]['zipcodes'][zipcode] = {'pop_percent': 0,\n",
    "                                             'distance': v}\n",
    "\n",
    "    return lengths, paths"
   ]
  },
  {
   "cell_type": "markdown",
   "metadata": {},
   "source": [
    "# Networkx Algos"
   ]
  },
  {
   "cell_type": "code",
   "execution_count": 75,
   "metadata": {},
   "outputs": [],
   "source": [
    "# %%time\n",
    "# betweenness - O^2\n",
    "# betweenness_subset = (nx.algorithms.centrality.betweenness_centrality(g))\n",
    "# central_nodes = [x[0] for x in list(betweenness_subset.items()) if x[1] > 0.2]\n",
    "# for node in central_nodes:\n",
    "#     g.nodes[node]['betweenness'] = True\n",
    "\n"
   ]
  },
  {
   "cell_type": "code",
   "execution_count": 76,
   "metadata": {},
   "outputs": [],
   "source": [
    "# %%time \n",
    "# K-components: identifies likely subgraphs and subgraphs of subgraphs\n",
    "# not useful for this project, sadly. It mostly identifies playgrounds\n",
    "# and stadiums, since these are easy subsets\n",
    "# from networkx.algorithms import approximation as apxa\n",
    "# h = g.to_undirected() \n",
    "\n",
    "# foo = apxa.k_components(h, min_density=0.95)\n",
    "\n",
    "# for node in foo[1][0]:\n",
    "#     g.nodes[node]['k_1'] = True\n",
    "# for node in foo[2][0]:\n",
    "#     g.nodes[node]['k_2'] = True\n",
    "# for node in foo[2][1]:\n",
    "#     g.nodes[node]['k_2'] = True\n",
    "# for node in foo[2][2]:\n",
    "#     g.nodes[node]['k_2'] = True\n",
    "# for node in foo[3][0]:\n",
    "#     g.nodes[node]['k_2'] = True"
   ]
  },
  {
   "cell_type": "code",
   "execution_count": 77,
   "metadata": {},
   "outputs": [],
   "source": [
    "# runs forever. no result\n",
    "# from networkx.algorithms import approximation as apxa\n",
    "# apxa.maximum_independent_set(g)"
   ]
  },
  {
   "cell_type": "code",
   "execution_count": 78,
   "metadata": {},
   "outputs": [],
   "source": [
    "# %%time\n",
    "# # voterank - not useful. mostly just shows parks\n",
    "# central_nodes = nx.algorithms.centrality.voterank(g, number_of_nodes=10)\n",
    "# for node in central_nodes:\n",
    "#     g.nodes[node]['voterank'] = True\n",
    "\n",
    "\n",
    "# # betweenness - O^2\n",
    "# # betweenness_subset = (nx.algorithms.centrality.betweenness_centrality(g))\n",
    "# # central_nodes = [x[0] for x in list(betweenness_subset.items()) if x[1] > 0.2]\n",
    "# # for node in central_nodes:\n",
    "# #     g.nodes[node]['betweenness'] = True\n"
   ]
  },
  {
   "cell_type": "code",
   "execution_count": 79,
   "metadata": {},
   "outputs": [],
   "source": [
    "# %%time\n",
    "# # closeness - again, not very useful.\n",
    "# closeness_subset = (nx.algorithms.centrality.closeness_centrality(g, distance='havlen'))\n",
    "\n",
    "# for node in central_nodes:\n",
    "#     g.nodes[node]['closeness'] = True"
   ]
  },
  {
   "cell_type": "code",
   "execution_count": 25,
   "metadata": {},
   "outputs": [],
   "source": [
    "pr = nx.pagerank(g)"
   ]
  },
  {
   "cell_type": "markdown",
   "metadata": {},
   "source": [
    "# Write results to disk"
   ]
  },
  {
   "cell_type": "code",
   "execution_count": 88,
   "metadata": {},
   "outputs": [],
   "source": [
    "nx.write_gpickle(g, \"./data/02_\" + DATASET + \".gpickle\")"
   ]
  },
  {
   "cell_type": "code",
   "execution_count": null,
   "metadata": {},
   "outputs": [],
   "source": []
  }
 ],
 "metadata": {
  "kernelspec": {
   "display_name": "bikepoints",
   "language": "python",
   "name": "bikepoints"
  },
  "varInspector": {
   "cols": {
    "lenName": 16,
    "lenType": 16,
    "lenVar": 40
   },
   "kernels_config": {
    "python": {
     "delete_cmd_postfix": "",
     "delete_cmd_prefix": "del ",
     "library": "var_list.py",
     "varRefreshCmd": "print(var_dic_list())"
    },
    "r": {
     "delete_cmd_postfix": ") ",
     "delete_cmd_prefix": "rm(",
     "library": "var_list.r",
     "varRefreshCmd": "cat(var_dic_list()) "
    }
   },
   "types_to_exclude": [
    "module",
    "function",
    "builtin_function_or_method",
    "instance",
    "_Feature"
   ],
   "window_display": false
  }
 },
 "nbformat": 4,
 "nbformat_minor": 4
}
