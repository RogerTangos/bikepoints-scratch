{
 "cells": [
  {
   "cell_type": "code",
   "execution_count": 155,
   "metadata": {},
   "outputs": [],
   "source": [
    "import random\n",
    "import csv\n",
    "from math import radians, cos, sin, asin, sqrt\n",
    "\n",
    "import networkx as nx\n",
    "import pickle as pkl\n",
    "import pandas as pd\n",
    "\n",
    "\n",
    "from vars import DATASET"
   ]
  },
  {
   "cell_type": "code",
   "execution_count": 156,
   "metadata": {},
   "outputs": [
    {
     "data": {
      "text/plain": [
       "'boston-metro'"
      ]
     },
     "execution_count": 156,
     "metadata": {},
     "output_type": "execute_result"
    }
   ],
   "source": [
    "DATASET"
   ]
  },
  {
   "cell_type": "markdown",
   "metadata": {},
   "source": [
    "# tag nodes with zipcodes, population, and total graph pop"
   ]
  },
  {
   "cell_type": "markdown",
   "metadata": {},
   "source": [
    "## Known supplied zipcodes"
   ]
  },
  {
   "cell_type": "code",
   "execution_count": 157,
   "metadata": {},
   "outputs": [],
   "source": [
    "zipcode_dict = {}"
   ]
  },
  {
   "cell_type": "code",
   "execution_count": 158,
   "metadata": {},
   "outputs": [],
   "source": [
    "# populate zipcode_dict with nodes for each zipcode\n",
    "with open('./data/zipcode/zipcodes_boston-metro.csv', newline='') as f:\n",
    "    csvreader = csv.reader(f, delimiter=',')\n",
    "    next(csvreader) # skip header\n",
    "    for row in csvreader:\n",
    "        node_id, zipcode = row[0], row[1]\n",
    "        \n",
    "        if zipcode_dict.get(zipcode) is not None:\n",
    "            zipcode_dict[zipcode]['ids'] = zipcode_dict[zipcode]['ids'] + [node_id]\n",
    "        else:\n",
    "            zipcode_dict[zipcode] = {}\n",
    "            zipcode_dict[zipcode]['population'] = 0\n",
    "            zipcode_dict[zipcode]['ids'] = [node_id]"
   ]
  },
  {
   "cell_type": "code",
   "execution_count": 159,
   "metadata": {},
   "outputs": [],
   "source": [
    "# populate zipcode_dict with population for each zipcode\n",
    "# from https://worldpopulationreview.com/zips/massachusetts\n",
    "with open('./data/zipcode/population_by_zip_2020.csv', newline='') as f:\n",
    "    csvreader = csv.reader(f, delimiter=',')\n",
    "    next(csvreader) # skip header\n",
    "    for row in csvreader:\n",
    "        population, zipcode = int(row[3]), row[0].zfill(5) # 5 digit zipcode\n",
    "        \n",
    "        if zipcode_dict.get(zipcode):\n",
    "            zipcode_dict[zipcode]['population'] = population\n"
   ]
  },
  {
   "cell_type": "code",
   "execution_count": 160,
   "metadata": {},
   "outputs": [],
   "source": [
    "# compute total population visible in graph\n",
    "total_pop_dict = {}\n",
    "all_nodes_set = set(g.nodes())\n",
    "\n",
    "# populate a dictionary of zipcodes in use, and their populations\n",
    "for zipcode, inner_dict in zipcode_dict.items():\n",
    "    population = inner_dict['population']\n",
    "    nodes = set(inner_dict['ids'])\n",
    "    \n",
    "    # if the zipcode hasn't gotten its population yet, and the nodes intersect with the graph\n",
    "    if total_pop_dict.get(zipcode, True) and len(nodes.intersection(all_nodes_set)) > 0:\n",
    "        total_pop_dict[zipcode] = population\n",
    "\n",
    "# sum the values of the dictionary to get the total map population\n",
    "total_population = sum([v for k, v in total_pop_dict.items()])"
   ]
  },
  {
   "cell_type": "code",
   "execution_count": 161,
   "metadata": {},
   "outputs": [],
   "source": [
    "# tag nodes with the zipcode, population, and total graph population\n",
    "for zipcode, inner_dict in zipcode_dict.items():\n",
    "    population = inner_dict['population']\n",
    "    nodes = inner_dict['ids']\n",
    "    \n",
    "    for node in nodes:\n",
    "        \n",
    "        # the zipcode dictionary may have nodes not contained in\n",
    "        # the particular dataset, so make sure to only try to tag those\n",
    "        if g.nodes.get(node):\n",
    "            g.nodes()[node]['zipcode'] = zipcode\n",
    "            g.nodes()[node]['population'] = population\n",
    "            g.nodes()[node]['total_graph_area_pop'] = total_population"
   ]
  },
  {
   "cell_type": "code",
   "execution_count": 162,
   "metadata": {},
   "outputs": [
    {
     "name": "stdout",
     "output_type": "stream",
     "text": [
      "number of nodes in the graph:918800\n",
      "number of nodes with zipcodes:306362\n",
      "ratio-zipcoded: 0.33343709185894643\n"
     ]
    }
   ],
   "source": [
    "num_nodes = len(g.nodes())\n",
    "num_nodes_with_zips = len([x for x in g.nodes() if g.nodes()[x].get('zipcode')])\n",
    "\n",
    "print('number of nodes in the graph:' + str(num_nodes))\n",
    "print('number of nodes with zipcodes:' + str(num_nodes_with_zips))\n",
    "print('ratio-zipcoded: ' + str(num_nodes_with_zips/num_nodes))"
   ]
  },
  {
   "cell_type": "markdown",
   "metadata": {},
   "source": [
    "## inferring zipcodes"
   ]
  },
  {
   "cell_type": "code",
   "execution_count": 185,
   "metadata": {},
   "outputs": [],
   "source": [
    "def infer_zipcode_from_neighbors(node_id):\n",
    "    '''given a node_id, add a zipcode if it can be inferred.\n",
    "       return whether an inference was made, and the current zipcode'''\n",
    "    \n",
    "    # if the node has an assigned zipcode, use that.\n",
    "    if g.nodes()[node_id].get('zipcode') is not None:\n",
    "        return (False, g.nodes()[node_id].get('zipcode'))\n",
    "    \n",
    "    in_edges = g.in_edges(node_id)\n",
    "    out_edges = g.out_edges(node_id)\n",
    "    \n",
    "    in_neighbors = [x[0] for x in g.in_edges(node_id)]\n",
    "    out_neighbors = [x[1] for x in g.out_edges(node_id)]\n",
    "    \n",
    "    in_distances = [g.edges()[x]['havlen'] for x in in_edges]\n",
    "    out_distances = [g.edges()[x]['havlen'] for x in out_edges]\n",
    "    \n",
    "    in_zipcodes = [g.nodes()[x].get('zipcode', None) for x in in_neighbors]\n",
    "    out_zipcodes = [g.nodes()[x].get('zipcode', None) for x in out_neighbors]\n",
    "    \n",
    "    zip_distances = [x for x in zip(in_zipcodes, in_distances)] + [x for x in zip(out_zipcodes, out_distances)]\n",
    "    \n",
    "    # dictionary of zipcodes and their values\n",
    "    distance_dict = {}\n",
    "    for combo in zip_distances:\n",
    "        zipcode = combo[0]\n",
    "        distance = combo[1]\n",
    "        existing_distance = distance_dict.get(zipcode, 0)\n",
    "        \n",
    "        if zipcode is not None:\n",
    "            distance_dict[zipcode] = existing_distance + distance\n",
    "            \n",
    "    closest_zip = None\n",
    "    closest_distance = 1000000\n",
    "    for k, v in distance_dict.items():\n",
    "        if v < closest_distance:\n",
    "            closest_distance = v\n",
    "            closest_zip = k\n",
    "    \n",
    "    # categorize if possible\n",
    "    inference_made = False\n",
    "    if closest_zip != None:\n",
    "        g.nodes()[node_id]['zipcode'] = closest_zip\n",
    "        inference_made = True\n",
    "    \n",
    "    return (inference_made, closest_zip)"
   ]
  },
  {
   "cell_type": "code",
   "execution_count": 186,
   "metadata": {},
   "outputs": [
    {
     "data": {
      "text/plain": [
       "{'lat': 42.2036233, 'lon': -71.1058422, 'id': '30416737', 'tags': {}}"
      ]
     },
     "execution_count": 186,
     "metadata": {},
     "output_type": "execute_result"
    }
   ],
   "source": [
    "g.nodes()['30416737']"
   ]
  },
  {
   "cell_type": "code",
   "execution_count": 187,
   "metadata": {},
   "outputs": [
    {
     "name": "stdout",
     "output_type": "stream",
     "text": [
      "> \u001b[0;32m<ipython-input-185-a3aad6f711b3>\u001b[0m(42)\u001b[0;36minfer_zipcode_from_neighbors\u001b[0;34m()\u001b[0m\n",
      "\u001b[0;32m     40 \u001b[0;31m    \u001b[0;31m# categorize if possible\u001b[0m\u001b[0;34m\u001b[0m\u001b[0;34m\u001b[0m\u001b[0m\n",
      "\u001b[0m\u001b[0;32m     41 \u001b[0;31m    \u001b[0;32mimport\u001b[0m \u001b[0mpdb\u001b[0m\u001b[0;34m;\u001b[0m \u001b[0mpdb\u001b[0m\u001b[0;34m.\u001b[0m\u001b[0mset_trace\u001b[0m\u001b[0;34m(\u001b[0m\u001b[0;34m)\u001b[0m\u001b[0;34m\u001b[0m\u001b[0m\n",
      "\u001b[0m\u001b[0;32m---> 42 \u001b[0;31m    \u001b[0minference_made\u001b[0m \u001b[0;34m=\u001b[0m \u001b[0;32mFalse\u001b[0m\u001b[0;34m\u001b[0m\u001b[0m\n",
      "\u001b[0m\u001b[0;32m     43 \u001b[0;31m    \u001b[0;32mif\u001b[0m \u001b[0mclosest_zip\u001b[0m \u001b[0;34m!=\u001b[0m \u001b[0;32mNone\u001b[0m\u001b[0;34m:\u001b[0m\u001b[0;34m\u001b[0m\u001b[0m\n",
      "\u001b[0m\u001b[0;32m     44 \u001b[0;31m        \u001b[0mg\u001b[0m\u001b[0;34m.\u001b[0m\u001b[0mnodes\u001b[0m\u001b[0;34m(\u001b[0m\u001b[0;34m)\u001b[0m\u001b[0;34m[\u001b[0m\u001b[0mnode_id\u001b[0m\u001b[0;34m]\u001b[0m\u001b[0;34m[\u001b[0m\u001b[0;34m'zipcode'\u001b[0m\u001b[0;34m]\u001b[0m \u001b[0;34m=\u001b[0m \u001b[0mclosest_zip\u001b[0m\u001b[0;34m\u001b[0m\u001b[0m\n",
      "\u001b[0m\n",
      "ipdb> c\n",
      "(False, None)\n"
     ]
    }
   ],
   "source": [
    "foo = infer_zipcode_from_neighbors('30416737')\n",
    "print(foo)"
   ]
  },
  {
   "cell_type": "code",
   "execution_count": 175,
   "metadata": {},
   "outputs": [
    {
     "data": {
      "text/plain": [
       "(False, '02021')"
      ]
     },
     "execution_count": 175,
     "metadata": {},
     "output_type": "execute_result"
    }
   ],
   "source": [
    "good_node = '542944364'\n",
    "foo = infer_zipcode_from_neighbors(good_node)\n",
    "foo"
   ]
  },
  {
   "cell_type": "code",
   "execution_count": 179,
   "metadata": {},
   "outputs": [],
   "source": [
    "def nodes_without_zipcodes():\n",
    "    uncategorized_nodes = []\n",
    "    for node in g.nodes():\n",
    "        if g.nodes()[node].get('zipcode') is None:\n",
    "            uncategorized_nodes.append(node)\n",
    "    return uncategorized_nodes\n",
    "\n",
    "uncategorized_nodes = nodes_without_zipcodes()\n",
    "# uncategorized_nodes[0:100]"
   ]
  },
  {
   "cell_type": "code",
   "execution_count": 184,
   "metadata": {},
   "outputs": [
    {
     "name": "stdout",
     "output_type": "stream",
     "text": [
      "> \u001b[0;32m<ipython-input-173-a3aad6f711b3>\u001b[0m(42)\u001b[0;36minfer_zipcode_from_neighbors\u001b[0;34m()\u001b[0m\n",
      "\u001b[0;32m     40 \u001b[0;31m    \u001b[0;31m# categorize if possible\u001b[0m\u001b[0;34m\u001b[0m\u001b[0;34m\u001b[0m\u001b[0m\n",
      "\u001b[0m\u001b[0;32m     41 \u001b[0;31m    \u001b[0;32mimport\u001b[0m \u001b[0mpdb\u001b[0m\u001b[0;34m;\u001b[0m \u001b[0mpdb\u001b[0m\u001b[0;34m.\u001b[0m\u001b[0mset_trace\u001b[0m\u001b[0;34m(\u001b[0m\u001b[0;34m)\u001b[0m\u001b[0;34m\u001b[0m\u001b[0m\n",
      "\u001b[0m\u001b[0;32m---> 42 \u001b[0;31m    \u001b[0minference_made\u001b[0m \u001b[0;34m=\u001b[0m \u001b[0;32mFalse\u001b[0m\u001b[0;34m\u001b[0m\u001b[0m\n",
      "\u001b[0m\u001b[0;32m     43 \u001b[0;31m    \u001b[0;32mif\u001b[0m \u001b[0mclosest_zip\u001b[0m \u001b[0;34m!=\u001b[0m \u001b[0;32mNone\u001b[0m\u001b[0;34m:\u001b[0m\u001b[0;34m\u001b[0m\u001b[0m\n",
      "\u001b[0m\u001b[0;32m     44 \u001b[0;31m        \u001b[0mg\u001b[0m\u001b[0;34m.\u001b[0m\u001b[0mnodes\u001b[0m\u001b[0;34m(\u001b[0m\u001b[0;34m)\u001b[0m\u001b[0;34m[\u001b[0m\u001b[0mnode_id\u001b[0m\u001b[0;34m]\u001b[0m\u001b[0;34m[\u001b[0m\u001b[0;34m'zipcode'\u001b[0m\u001b[0;34m]\u001b[0m \u001b[0;34m=\u001b[0m \u001b[0mclosest_zip\u001b[0m\u001b[0;34m\u001b[0m\u001b[0m\n",
      "\u001b[0m\n",
      "ipdb> inference\n",
      "(True, '')\n",
      "ipdb> node\n",
      "'30416737'\n",
      "ipdb> g.nodes()['30416737']\n",
      "{'lat': 42.2036233, 'lon': -71.1058422, 'id': '30416737', 'tags': {}}\n",
      "ipdb> g.nodes()[node_id]\n",
      "{'lat': 42.2036233, 'lon': -71.1058422, 'id': '30416737', 'tags': {}}\n",
      "ipdb> q\n"
     ]
    },
    {
     "ename": "BdbQuit",
     "evalue": "",
     "output_type": "error",
     "traceback": [
      "\u001b[0;31m---------------------------------------------------------------------------\u001b[0m",
      "\u001b[0;31mBdbQuit\u001b[0m                                   Traceback (most recent call last)",
      "\u001b[0;32m<ipython-input-184-f03636f5db8d>\u001b[0m in \u001b[0;36m<module>\u001b[0;34m\u001b[0m\n\u001b[1;32m     10\u001b[0m \u001b[0;34m\u001b[0m\u001b[0m\n\u001b[1;32m     11\u001b[0m \u001b[0;32mfor\u001b[0m \u001b[0mnode\u001b[0m \u001b[0;32min\u001b[0m \u001b[0muncategorized_nodes\u001b[0m\u001b[0;34m:\u001b[0m\u001b[0;34m\u001b[0m\u001b[0m\n\u001b[0;32m---> 12\u001b[0;31m     \u001b[0minference\u001b[0m \u001b[0;34m=\u001b[0m \u001b[0minfer_zipcode_from_neighbors\u001b[0m\u001b[0;34m(\u001b[0m\u001b[0mnode\u001b[0m\u001b[0;34m)\u001b[0m\u001b[0;34m\u001b[0m\u001b[0m\n\u001b[0m\u001b[1;32m     13\u001b[0m     \u001b[0minference_made\u001b[0m \u001b[0;34m=\u001b[0m \u001b[0minference\u001b[0m\u001b[0;34m[\u001b[0m\u001b[0;36m0\u001b[0m\u001b[0;34m]\u001b[0m\u001b[0;34m\u001b[0m\u001b[0m\n\u001b[1;32m     14\u001b[0m     \u001b[0mzipcode\u001b[0m \u001b[0;34m=\u001b[0m \u001b[0minference\u001b[0m\u001b[0;34m[\u001b[0m\u001b[0;36m1\u001b[0m\u001b[0;34m]\u001b[0m\u001b[0;34m\u001b[0m\u001b[0m\n",
      "\u001b[0;32m<ipython-input-173-a3aad6f711b3>\u001b[0m in \u001b[0;36minfer_zipcode_from_neighbors\u001b[0;34m(node_id)\u001b[0m\n\u001b[1;32m     40\u001b[0m     \u001b[0;31m# categorize if possible\u001b[0m\u001b[0;34m\u001b[0m\u001b[0;34m\u001b[0m\u001b[0m\n\u001b[1;32m     41\u001b[0m     \u001b[0;32mimport\u001b[0m \u001b[0mpdb\u001b[0m\u001b[0;34m;\u001b[0m \u001b[0mpdb\u001b[0m\u001b[0;34m.\u001b[0m\u001b[0mset_trace\u001b[0m\u001b[0;34m(\u001b[0m\u001b[0;34m)\u001b[0m\u001b[0;34m\u001b[0m\u001b[0m\n\u001b[0;32m---> 42\u001b[0;31m     \u001b[0minference_made\u001b[0m \u001b[0;34m=\u001b[0m \u001b[0;32mFalse\u001b[0m\u001b[0;34m\u001b[0m\u001b[0m\n\u001b[0m\u001b[1;32m     43\u001b[0m     \u001b[0;32mif\u001b[0m \u001b[0mclosest_zip\u001b[0m \u001b[0;34m!=\u001b[0m \u001b[0;32mNone\u001b[0m\u001b[0;34m:\u001b[0m\u001b[0;34m\u001b[0m\u001b[0m\n\u001b[1;32m     44\u001b[0m         \u001b[0mg\u001b[0m\u001b[0;34m.\u001b[0m\u001b[0mnodes\u001b[0m\u001b[0;34m(\u001b[0m\u001b[0;34m)\u001b[0m\u001b[0;34m[\u001b[0m\u001b[0mnode_id\u001b[0m\u001b[0;34m]\u001b[0m\u001b[0;34m[\u001b[0m\u001b[0;34m'zipcode'\u001b[0m\u001b[0;34m]\u001b[0m \u001b[0;34m=\u001b[0m \u001b[0mclosest_zip\u001b[0m\u001b[0;34m\u001b[0m\u001b[0m\n",
      "\u001b[0;32m<ipython-input-173-a3aad6f711b3>\u001b[0m in \u001b[0;36minfer_zipcode_from_neighbors\u001b[0;34m(node_id)\u001b[0m\n\u001b[1;32m     40\u001b[0m     \u001b[0;31m# categorize if possible\u001b[0m\u001b[0;34m\u001b[0m\u001b[0;34m\u001b[0m\u001b[0m\n\u001b[1;32m     41\u001b[0m     \u001b[0;32mimport\u001b[0m \u001b[0mpdb\u001b[0m\u001b[0;34m;\u001b[0m \u001b[0mpdb\u001b[0m\u001b[0;34m.\u001b[0m\u001b[0mset_trace\u001b[0m\u001b[0;34m(\u001b[0m\u001b[0;34m)\u001b[0m\u001b[0;34m\u001b[0m\u001b[0m\n\u001b[0;32m---> 42\u001b[0;31m     \u001b[0minference_made\u001b[0m \u001b[0;34m=\u001b[0m \u001b[0;32mFalse\u001b[0m\u001b[0;34m\u001b[0m\u001b[0m\n\u001b[0m\u001b[1;32m     43\u001b[0m     \u001b[0;32mif\u001b[0m \u001b[0mclosest_zip\u001b[0m \u001b[0;34m!=\u001b[0m \u001b[0;32mNone\u001b[0m\u001b[0;34m:\u001b[0m\u001b[0;34m\u001b[0m\u001b[0m\n\u001b[1;32m     44\u001b[0m         \u001b[0mg\u001b[0m\u001b[0;34m.\u001b[0m\u001b[0mnodes\u001b[0m\u001b[0;34m(\u001b[0m\u001b[0;34m)\u001b[0m\u001b[0;34m[\u001b[0m\u001b[0mnode_id\u001b[0m\u001b[0;34m]\u001b[0m\u001b[0;34m[\u001b[0m\u001b[0;34m'zipcode'\u001b[0m\u001b[0;34m]\u001b[0m \u001b[0;34m=\u001b[0m \u001b[0mclosest_zip\u001b[0m\u001b[0;34m\u001b[0m\u001b[0m\n",
      "\u001b[0;32m/Library/Frameworks/Python.framework/Versions/3.7/lib/python3.7/bdb.py\u001b[0m in \u001b[0;36mtrace_dispatch\u001b[0;34m(self, frame, event, arg)\u001b[0m\n\u001b[1;32m     86\u001b[0m             \u001b[0;32mreturn\u001b[0m \u001b[0;31m# None\u001b[0m\u001b[0;34m\u001b[0m\u001b[0m\n\u001b[1;32m     87\u001b[0m         \u001b[0;32mif\u001b[0m \u001b[0mevent\u001b[0m \u001b[0;34m==\u001b[0m \u001b[0;34m'line'\u001b[0m\u001b[0;34m:\u001b[0m\u001b[0;34m\u001b[0m\u001b[0m\n\u001b[0;32m---> 88\u001b[0;31m             \u001b[0;32mreturn\u001b[0m \u001b[0mself\u001b[0m\u001b[0;34m.\u001b[0m\u001b[0mdispatch_line\u001b[0m\u001b[0;34m(\u001b[0m\u001b[0mframe\u001b[0m\u001b[0;34m)\u001b[0m\u001b[0;34m\u001b[0m\u001b[0m\n\u001b[0m\u001b[1;32m     89\u001b[0m         \u001b[0;32mif\u001b[0m \u001b[0mevent\u001b[0m \u001b[0;34m==\u001b[0m \u001b[0;34m'call'\u001b[0m\u001b[0;34m:\u001b[0m\u001b[0;34m\u001b[0m\u001b[0m\n\u001b[1;32m     90\u001b[0m             \u001b[0;32mreturn\u001b[0m \u001b[0mself\u001b[0m\u001b[0;34m.\u001b[0m\u001b[0mdispatch_call\u001b[0m\u001b[0;34m(\u001b[0m\u001b[0mframe\u001b[0m\u001b[0;34m,\u001b[0m \u001b[0marg\u001b[0m\u001b[0;34m)\u001b[0m\u001b[0;34m\u001b[0m\u001b[0m\n",
      "\u001b[0;32m/Library/Frameworks/Python.framework/Versions/3.7/lib/python3.7/bdb.py\u001b[0m in \u001b[0;36mdispatch_line\u001b[0;34m(self, frame)\u001b[0m\n\u001b[1;32m    111\u001b[0m         \u001b[0;32mif\u001b[0m \u001b[0mself\u001b[0m\u001b[0;34m.\u001b[0m\u001b[0mstop_here\u001b[0m\u001b[0;34m(\u001b[0m\u001b[0mframe\u001b[0m\u001b[0;34m)\u001b[0m \u001b[0;32mor\u001b[0m \u001b[0mself\u001b[0m\u001b[0;34m.\u001b[0m\u001b[0mbreak_here\u001b[0m\u001b[0;34m(\u001b[0m\u001b[0mframe\u001b[0m\u001b[0;34m)\u001b[0m\u001b[0;34m:\u001b[0m\u001b[0;34m\u001b[0m\u001b[0m\n\u001b[1;32m    112\u001b[0m             \u001b[0mself\u001b[0m\u001b[0;34m.\u001b[0m\u001b[0muser_line\u001b[0m\u001b[0;34m(\u001b[0m\u001b[0mframe\u001b[0m\u001b[0;34m)\u001b[0m\u001b[0;34m\u001b[0m\u001b[0m\n\u001b[0;32m--> 113\u001b[0;31m             \u001b[0;32mif\u001b[0m \u001b[0mself\u001b[0m\u001b[0;34m.\u001b[0m\u001b[0mquitting\u001b[0m\u001b[0;34m:\u001b[0m \u001b[0;32mraise\u001b[0m \u001b[0mBdbQuit\u001b[0m\u001b[0;34m\u001b[0m\u001b[0m\n\u001b[0m\u001b[1;32m    114\u001b[0m         \u001b[0;32mreturn\u001b[0m \u001b[0mself\u001b[0m\u001b[0;34m.\u001b[0m\u001b[0mtrace_dispatch\u001b[0m\u001b[0;34m\u001b[0m\u001b[0m\n\u001b[1;32m    115\u001b[0m \u001b[0;34m\u001b[0m\u001b[0m\n",
      "\u001b[0;31mBdbQuit\u001b[0m: "
     ]
    }
   ],
   "source": [
    "uncategorized_nodes = nodes_without_zipcodes()\n",
    "num_categorized = 0\n",
    "nodes_since_last_categorization = 0\n",
    "\n",
    "# while nodes_since_last_categorization < len(uncategorized_nodes) - num_categorized:\n",
    "\n",
    "#     print('num uncategorized nodes: ' + len(uncategorized_nodes))\n",
    "#     print('num_categorized: ' + str(num_categorized))\n",
    "#     print('nodes_since_last_categorization' + str(nodes_since_last_categorization))\n",
    "    \n",
    "for node in uncategorized_nodes:\n",
    "    inference = infer_zipcode_from_neighbors(node)\n",
    "    inference_made = inference[0]\n",
    "    zipcode = inference[1]\n",
    "    \n",
    "    if inference_made:\n",
    "        import pdb; pdb.set_trace()\n",
    "        num_categorized += 1\n",
    "        print(node + ' assigned ' + str(zipcode))\n",
    "        nodes_since_last_categorization = 0\n",
    "    else:\n",
    "        nodes_since_last_categorization += 1"
   ]
  },
  {
   "cell_type": "code",
   "execution_count": 152,
   "metadata": {},
   "outputs": [
    {
     "data": {
      "text/plain": [
       "{'lat': 42.281291,\n",
       " 'lon': -71.104081,\n",
       " 'id': '61388670',\n",
       " 'tags': {'attribution': 'Office of Geographic and Environmental Information (MassGIS)',\n",
       "  'created_by': 'JOSM',\n",
       "  'source': 'massgis_import_v0.1_20071008193615'},\n",
       " 'zipcode': '',\n",
       " 'population': 0,\n",
       " 'total_graph_area_pop': 2581490}"
      ]
     },
     "execution_count": 152,
     "metadata": {},
     "output_type": "execute_result"
    }
   ],
   "source": [
    "g.nodes()['61388670']"
   ]
  },
  {
   "cell_type": "code",
   "execution_count": 145,
   "metadata": {},
   "outputs": [],
   "source": [
    "leftover = nodes_without_zipcodes()"
   ]
  },
  {
   "cell_type": "code",
   "execution_count": 146,
   "metadata": {},
   "outputs": [
    {
     "data": {
      "text/plain": [
       "308150"
      ]
     },
     "execution_count": 146,
     "metadata": {},
     "output_type": "execute_result"
    }
   ],
   "source": [
    "len(leftover)"
   ]
  },
  {
   "cell_type": "code",
   "execution_count": 147,
   "metadata": {},
   "outputs": [
    {
     "data": {
      "text/plain": [
       "308150"
      ]
     },
     "execution_count": 147,
     "metadata": {},
     "output_type": "execute_result"
    }
   ],
   "source": [
    "len(uncategorized_nodes)"
   ]
  },
  {
   "cell_type": "markdown",
   "metadata": {},
   "source": [
    "# Dijkstra from Central Nodes"
   ]
  },
  {
   "cell_type": "code",
   "execution_count": 21,
   "metadata": {},
   "outputs": [],
   "source": [
    "# give every node an empty zipcode dictionary\n",
    "for node in g.nodes():\n",
    "    g.nodes()[node]['distance-from-zipcode'] = {}"
   ]
  },
  {
   "cell_type": "code",
   "execution_count": 24,
   "metadata": {},
   "outputs": [],
   "source": [
    "# in testing, cutoff of 1000 does not affect the boston graph. The max distance represented is 23 km.\n",
    "# a reasoanble cutoff for a larger graph might be 5000, representing 100 km.\n",
    "def record_lenghts_from_source(zipcode, node_id, weight='havlen', cutoff=5000):\n",
    "    \"\"\"\n",
    "    given a zipcode and a node_id, compute the distance from the node_id to\n",
    "    all other nodes on the graph. Then, record this information in nodes,\n",
    "    keyed to the zipcode.\n",
    "    \n",
    "    Returns lengths and paths, which may be convenient for analysis reasons.\n",
    "    \"\"\"\n",
    "    \n",
    "    lengths, paths = nx.single_source_dijkstra(g, node_id, weight=weight, cutoff=cutoff)\n",
    "    \n",
    "    for k, v in lenghts.items():\n",
    "        g.nodes()[k]['distance-from-zipcode'][zipcode] = {'pop_percent': 0,\n",
    "                                                          'distance': v}\n",
    "\n",
    "    return lengths, paths"
   ]
  },
  {
   "cell_type": "markdown",
   "metadata": {},
   "source": [
    "# Networkx Algos"
   ]
  },
  {
   "cell_type": "code",
   "execution_count": 75,
   "metadata": {},
   "outputs": [],
   "source": [
    "# %%time\n",
    "# betweenness - O^2\n",
    "# betweenness_subset = (nx.algorithms.centrality.betweenness_centrality(g))\n",
    "# central_nodes = [x[0] for x in list(betweenness_subset.items()) if x[1] > 0.2]\n",
    "# for node in central_nodes:\n",
    "#     g.nodes[node]['betweenness'] = True\n",
    "\n"
   ]
  },
  {
   "cell_type": "code",
   "execution_count": 76,
   "metadata": {},
   "outputs": [],
   "source": [
    "# %%time \n",
    "# K-components: identifies likely subgraphs and subgraphs of subgraphs\n",
    "# not useful for this project, sadly. It mostly identifies playgrounds\n",
    "# and stadiums, since these are easy subsets\n",
    "# from networkx.algorithms import approximation as apxa\n",
    "# h = g.to_undirected() \n",
    "\n",
    "# foo = apxa.k_components(h, min_density=0.95)\n",
    "\n",
    "# for node in foo[1][0]:\n",
    "#     g.nodes[node]['k_1'] = True\n",
    "# for node in foo[2][0]:\n",
    "#     g.nodes[node]['k_2'] = True\n",
    "# for node in foo[2][1]:\n",
    "#     g.nodes[node]['k_2'] = True\n",
    "# for node in foo[2][2]:\n",
    "#     g.nodes[node]['k_2'] = True\n",
    "# for node in foo[3][0]:\n",
    "#     g.nodes[node]['k_2'] = True"
   ]
  },
  {
   "cell_type": "code",
   "execution_count": 77,
   "metadata": {},
   "outputs": [],
   "source": [
    "# runs forever. no result\n",
    "# from networkx.algorithms import approximation as apxa\n",
    "# apxa.maximum_independent_set(g)"
   ]
  },
  {
   "cell_type": "code",
   "execution_count": 78,
   "metadata": {},
   "outputs": [],
   "source": [
    "# %%time\n",
    "# # voterank - not useful. mostly just shows parks\n",
    "# central_nodes = nx.algorithms.centrality.voterank(g, number_of_nodes=10)\n",
    "# for node in central_nodes:\n",
    "#     g.nodes[node]['voterank'] = True\n",
    "\n",
    "\n",
    "# # betweenness - O^2\n",
    "# # betweenness_subset = (nx.algorithms.centrality.betweenness_centrality(g))\n",
    "# # central_nodes = [x[0] for x in list(betweenness_subset.items()) if x[1] > 0.2]\n",
    "# # for node in central_nodes:\n",
    "# #     g.nodes[node]['betweenness'] = True\n"
   ]
  },
  {
   "cell_type": "code",
   "execution_count": 79,
   "metadata": {},
   "outputs": [],
   "source": [
    "# %%time\n",
    "# # closeness - again, not very useful.\n",
    "# closeness_subset = (nx.algorithms.centrality.closeness_centrality(g, distance='havlen'))\n",
    "\n",
    "# for node in central_nodes:\n",
    "#     g.nodes[node]['closeness'] = True"
   ]
  },
  {
   "cell_type": "code",
   "execution_count": 25,
   "metadata": {},
   "outputs": [],
   "source": [
    "pr = nx.pagerank(g)"
   ]
  },
  {
   "cell_type": "markdown",
   "metadata": {},
   "source": [
    "# Write results to disk"
   ]
  },
  {
   "cell_type": "code",
   "execution_count": 28,
   "metadata": {},
   "outputs": [],
   "source": [
    "nx.write_gpickle(g, \"./data/02_\" + DATASET + \".gpickle\")"
   ]
  },
  {
   "cell_type": "code",
   "execution_count": null,
   "metadata": {},
   "outputs": [],
   "source": []
  }
 ],
 "metadata": {
  "kernelspec": {
   "display_name": "bikepoints",
   "language": "python",
   "name": "bikepoints"
  },
  "language_info": {
   "codemirror_mode": {
    "name": "ipython",
    "version": 3
   },
   "file_extension": ".py",
   "mimetype": "text/x-python",
   "name": "python",
   "nbconvert_exporter": "python",
   "pygments_lexer": "ipython3",
   "version": "3.7.0"
  },
  "varInspector": {
   "cols": {
    "lenName": 16,
    "lenType": 16,
    "lenVar": 40
   },
   "kernels_config": {
    "python": {
     "delete_cmd_postfix": "",
     "delete_cmd_prefix": "del ",
     "library": "var_list.py",
     "varRefreshCmd": "print(var_dic_list())"
    },
    "r": {
     "delete_cmd_postfix": ") ",
     "delete_cmd_prefix": "rm(",
     "library": "var_list.r",
     "varRefreshCmd": "cat(var_dic_list()) "
    }
   },
   "types_to_exclude": [
    "module",
    "function",
    "builtin_function_or_method",
    "instance",
    "_Feature"
   ],
   "window_display": false
  }
 },
 "nbformat": 4,
 "nbformat_minor": 4
}
