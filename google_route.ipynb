{
 "cells": [
  {
   "cell_type": "code",
   "execution_count": 2,
   "metadata": {},
   "outputs": [],
   "source": [
    "from secret import SECRET\n",
    "import networkx as nx\n",
    "import re\n",
    "import json\n",
    "import random\n",
    "from urllib.parse import quote\n",
    "import requests\n",
    "import folium as f\n",
    "import pprint\n",
    "\n",
    "BASE_URL = \"https://maps.googleapis.com/maps/api/directions/json?\"\n",
    "URL_END = \"&mode=bicycling&key=\" + SECRET\n",
    "WAYPOINT_MAX = 23 # In case we ever use waypoints\n",
    "\n",
    "g_pickle = \"data/02_cambridge.gpickle\"\n",
    "g = nx.read_gpickle(g_pickle)\n",
    "test_points = random.sample(list(g.nodes().data()), 2)"
   ]
  },
  {
   "cell_type": "code",
   "execution_count": 3,
   "metadata": {},
   "outputs": [],
   "source": [
    "def decode_polyline(polyline_str):\n",
    "    '''Pass a Google Maps encoded polyline string; returns list of lat/lon pairs\n",
    "       WRITTEN BY mgd722\n",
    "    '''\n",
    "    index, lat, lng = 0, 0, 0\n",
    "    coordinates = []\n",
    "    changes = {'latitude': 0, 'longitude': 0}\n",
    "\n",
    "    # Coordinates have variable length when encoded, so just keep\n",
    "    # track of whether we've hit the end of the string. In each\n",
    "    # while loop iteration, a single coordinate is decoded.\n",
    "    while index < len(polyline_str):\n",
    "        # Gather lat/lon changes, store them in a dictionary to apply them later\n",
    "        for unit in ['latitude', 'longitude']: \n",
    "            shift, result = 0, 0\n",
    "\n",
    "            while True:\n",
    "                byte = ord(polyline_str[index]) - 63\n",
    "                index += 1\n",
    "                result |= (byte & 0x1f) << shift\n",
    "                shift += 5\n",
    "                if not byte >= 0x20:\n",
    "                    break\n",
    "\n",
    "            if (result & 1):\n",
    "                changes[unit] = ~(result >> 1)\n",
    "            else:\n",
    "                changes[unit] = (result >> 1)\n",
    "\n",
    "        lat += changes['latitude']\n",
    "        lng += changes['longitude']\n",
    "\n",
    "        coordinates.append((lat / 100000.0, lng / 100000.0))\n",
    "\n",
    "    return coordinates"
   ]
  },
  {
   "cell_type": "code",
   "execution_count": 4,
   "metadata": {},
   "outputs": [],
   "source": [
    "def generate_url(origin, dest):\n",
    "    origin_param = \"&\" + \"origin=\" +quote((str(origin['lat']) + ',' + str(origin['lon'])))\n",
    "    dest_param = \"&\" + \"destination=\" + quote((str(dest['lat']) + ',' + str(dest['lon'])))\n",
    "\n",
    "    url = BASE_URL + origin_param + dest_param + URL_END\n",
    "    return url\n",
    "url = generate_url(origin = test_points[0][1], dest = test_points[1][1])"
   ]
  },
  {
   "cell_type": "code",
   "execution_count": 8,
   "metadata": {},
   "outputs": [
    {
     "data": {
      "text/plain": [
       "{'error_message': 'The provided API key is expired.',\n",
       " 'routes': [],\n",
       " 'status': 'REQUEST_DENIED'}"
      ]
     },
     "execution_count": 8,
     "metadata": {},
     "output_type": "execute_result"
    }
   ],
   "source": [
    "# route_data = requests.get(url).json()\n",
    "\n",
    "# steps = route_data['routes'][0]['legs'][0]['steps']\n",
    "\n",
    "# needed_intermediary_signs_num = (len(steps) - 1)\n",
    "# needed_intermediary_signs_num\n",
    "\n",
    "route_data"
   ]
  },
  {
   "cell_type": "code",
   "execution_count": null,
   "metadata": {},
   "outputs": [],
   "source": []
  },
  {
   "cell_type": "code",
   "execution_count": null,
   "metadata": {},
   "outputs": [],
   "source": [
    "def draw_map():\n",
    "    m = f.Map(location = [42.3736,-71.109977], zoom_start=14)\n",
    "\n",
    "    for node_data in test_points:\n",
    "        node_id = node_data[1][\"id\"]\n",
    "        lon,lat = node_data[1]['lon'], node_data[1]['lat'] \n",
    "\n",
    "        # CSS stuff\n",
    "        size = 25\n",
    "        color = \"magenta\"\n",
    "\n",
    "        f.Marker(location=[lat,lon],\n",
    "                  # Set icon to DivIcon to with conditional style formatting to reference the random temp value.\n",
    "                  icon=f.DivIcon(html=f\"\"\"<div style=\"border:1px solid {color}; text-align: center; vertical-align: middle; line-height: {size}px; background-color: white; width: {size}px; height: {size}px; border-radius: {size}px; font-family: sans-serif; color: {color};\">{45}</div>\"\"\")\n",
    "                 ).add_to(m)\n",
    "    return m"
   ]
  },
  {
   "cell_type": "code",
   "execution_count": null,
   "metadata": {},
   "outputs": [],
   "source": []
  },
  {
   "cell_type": "code",
   "execution_count": null,
   "metadata": {},
   "outputs": [],
   "source": []
  },
  {
   "cell_type": "code",
   "execution_count": null,
   "metadata": {},
   "outputs": [],
   "source": []
  },
  {
   "cell_type": "code",
   "execution_count": null,
   "metadata": {},
   "outputs": [],
   "source": []
  },
  {
   "cell_type": "code",
   "execution_count": null,
   "metadata": {},
   "outputs": [],
   "source": []
  },
  {
   "cell_type": "code",
   "execution_count": null,
   "metadata": {},
   "outputs": [],
   "source": []
  },
  {
   "cell_type": "code",
   "execution_count": null,
   "metadata": {},
   "outputs": [],
   "source": [
    "\n"
   ]
  },
  {
   "cell_type": "code",
   "execution_count": 6,
   "metadata": {
    "scrolled": true
   },
   "outputs": [
    {
     "ename": "NameError",
     "evalue": "name 'draw_map' is not defined",
     "output_type": "error",
     "traceback": [
      "\u001b[0;31m---------------------------------------------------------------------------\u001b[0m",
      "\u001b[0;31mNameError\u001b[0m                                 Traceback (most recent call last)",
      "\u001b[0;32m<ipython-input-6-8b4ae482bf52>\u001b[0m in \u001b[0;36m<module>\u001b[0;34m\u001b[0m\n\u001b[1;32m      1\u001b[0m \u001b[0mr\u001b[0m \u001b[0;34m=\u001b[0m \u001b[0;32mlambda\u001b[0m\u001b[0;34m:\u001b[0m \u001b[0mrandom\u001b[0m\u001b[0;34m.\u001b[0m\u001b[0mrandint\u001b[0m\u001b[0;34m(\u001b[0m\u001b[0;36m0\u001b[0m\u001b[0;34m,\u001b[0m\u001b[0;36m255\u001b[0m\u001b[0;34m)\u001b[0m\u001b[0;34m\u001b[0m\u001b[0;34m\u001b[0m\u001b[0m\n\u001b[1;32m      2\u001b[0m \u001b[0;34m\u001b[0m\u001b[0m\n\u001b[0;32m----> 3\u001b[0;31m \u001b[0mm\u001b[0m \u001b[0;34m=\u001b[0m \u001b[0mdraw_map\u001b[0m\u001b[0;34m(\u001b[0m\u001b[0;34m)\u001b[0m\u001b[0;34m\u001b[0m\u001b[0;34m\u001b[0m\u001b[0m\n\u001b[0m\u001b[1;32m      4\u001b[0m \u001b[0;32mfor\u001b[0m \u001b[0mstep\u001b[0m \u001b[0;32min\u001b[0m \u001b[0msteps\u001b[0m\u001b[0;34m:\u001b[0m\u001b[0;34m\u001b[0m\u001b[0;34m\u001b[0m\u001b[0m\n\u001b[1;32m      5\u001b[0m     \u001b[0mencoded_polyline\u001b[0m \u001b[0;34m=\u001b[0m \u001b[0mstep\u001b[0m\u001b[0;34m[\u001b[0m\u001b[0;34m\"polyline\"\u001b[0m\u001b[0;34m]\u001b[0m\u001b[0;34m[\u001b[0m\u001b[0;34m\"points\"\u001b[0m\u001b[0;34m]\u001b[0m\u001b[0;34m\u001b[0m\u001b[0;34m\u001b[0m\u001b[0m\n",
      "\u001b[0;31mNameError\u001b[0m: name 'draw_map' is not defined"
     ]
    }
   ],
   "source": [
    "r = lambda: random.randint(0,255)\n",
    "\n",
    "m = draw_map()\n",
    "for step in steps:\n",
    "    encoded_polyline = step[\"polyline\"][\"points\"]\n",
    "    polyline = decode_polyline(encoded_polyline)\n",
    "#     m.add_child(f.PolyLine(locations=polyline, line_opacity=1, color='#%02X%02X%02X' % (r(),r(),r())))\n",
    "    m.add_child(f.PolyLine(locations=polyline, opacity=.6, color=\"magenta\"))\n",
    "\n",
    "m"
   ]
  },
  {
   "cell_type": "code",
   "execution_count": null,
   "metadata": {},
   "outputs": [],
   "source": []
  },
  {
   "cell_type": "code",
   "execution_count": null,
   "metadata": {},
   "outputs": [],
   "source": []
  },
  {
   "cell_type": "code",
   "execution_count": null,
   "metadata": {},
   "outputs": [],
   "source": []
  },
  {
   "cell_type": "code",
   "execution_count": null,
   "metadata": {},
   "outputs": [],
   "source": []
  },
  {
   "cell_type": "code",
   "execution_count": null,
   "metadata": {},
   "outputs": [],
   "source": []
  },
  {
   "cell_type": "code",
   "execution_count": null,
   "metadata": {},
   "outputs": [],
   "source": []
  },
  {
   "cell_type": "code",
   "execution_count": null,
   "metadata": {},
   "outputs": [],
   "source": []
  },
  {
   "cell_type": "code",
   "execution_count": null,
   "metadata": {},
   "outputs": [],
   "source": []
  }
 ],
 "metadata": {
  "kernelspec": {
   "display_name": "Python 3",
   "language": "python",
   "name": "python3"
  },
  "language_info": {
   "codemirror_mode": {
    "name": "ipython",
    "version": 3
   },
   "file_extension": ".py",
   "mimetype": "text/x-python",
   "name": "python",
   "nbconvert_exporter": "python",
   "pygments_lexer": "ipython3",
   "version": "3.8.5"
  }
 },
 "nbformat": 4,
 "nbformat_minor": 4
}
