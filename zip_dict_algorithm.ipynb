{
 "cells": [
  {
   "cell_type": "markdown",
   "metadata": {},
   "source": [
    "# Populate `zip_code_dict.pickle`\n",
    "\n",
    "^^ this is the one and only thing this file should do"
   ]
  },
  {
   "cell_type": "code",
   "execution_count": 1,
   "metadata": {},
   "outputs": [],
   "source": [
    "from uszipcode import SearchEngine\n",
    "import networkx as nx\n",
    "import pickle\n",
    "\n",
    "search = SearchEngine(simple_zipcode=False, db_file_dir=\"./zip_code_cache\")"
   ]
  },
  {
   "cell_type": "code",
   "execution_count": null,
   "metadata": {},
   "outputs": [],
   "source": []
  },
  {
   "cell_type": "code",
   "execution_count": 2,
   "metadata": {},
   "outputs": [],
   "source": [
    "def get_zip_code_dict(g_pickle):\n",
    "    g = nx.read_gpickle(g_pickle)\n",
    "    nodes_data_subset = g.nodes().data()\n",
    "    search = SearchEngine(simple_zipcode=False, db_file_dir=\"./zip_code_cache\")\n",
    "    len_g = len(g)\n",
    "    count = 1\n",
    "    with open('zip_code_dict.pickle', 'rb') as handle:\n",
    "        zip_code_dict = pickle.load(handle)\n",
    "\n",
    "    for node_data in g.nodes().data():\n",
    "        node_id = node_data[1][\"id\"]\n",
    "        lon,lat = node_data[1]['lon'], node_data[1]['lat']\n",
    "        if node_id not in zip_code_dict:\n",
    "            count += 1\n",
    "            zip_code_dict[node_id] = search.by_coordinates(lat, lon, returns=1)[0].zipcode\n",
    "            print(str(len(zip_code_dict)) + \"       \"+ str(len(zip_code_dict)/len_g) + \"        ...slow algo alert\")\n",
    "\n",
    "\n",
    "        if count % 25 == 0: \n",
    "            print(\"--> Dumping into zip_code_dict.pickle\")\n",
    "            with open('zip_code_dict.pickle', 'wb') as handle:\n",
    "                pickle.dump(zip_code_dict, handle, protocol=pickle.HIGHEST_PROTOCOL)        \n",
    "\n",
    "    with open('zip_code_dict.pickle', 'wb') as handle:\n",
    "        pickle.dump(zip_code_dict, handle, protocol=pickle.HIGHEST_PROTOCOL)\n",
    "    return zip_code_dict"
   ]
  },
  {
   "cell_type": "code",
   "execution_count": null,
   "metadata": {},
   "outputs": [
    {
     "name": "stdout",
     "output_type": "stream",
     "text": [
      "7647       0.07935865504358655        ...slow algo alert\n",
      "7648       0.07936903279369033        ...slow algo alert\n",
      "7649       0.0793794105437941        ...slow algo alert\n",
      "7650       0.07938978829389788        ...slow algo alert\n",
      "7651       0.07940016604400166        ...slow algo alert\n",
      "7652       0.07941054379410543        ...slow algo alert\n",
      "7653       0.07942092154420921        ...slow algo alert\n",
      "7654       0.07943129929431299        ...slow algo alert\n",
      "7655       0.07944167704441676        ...slow algo alert\n",
      "7656       0.07945205479452055        ...slow algo alert\n",
      "7657       0.07946243254462433        ...slow algo alert\n",
      "7658       0.07947281029472811        ...slow algo alert\n",
      "7659       0.07948318804483188        ...slow algo alert\n",
      "7660       0.07949356579493566        ...slow algo alert\n",
      "7661       0.07950394354503944        ...slow algo alert\n",
      "7662       0.07951432129514321        ...slow algo alert\n",
      "7663       0.07952469904524699        ...slow algo alert\n",
      "7664       0.07953507679535077        ...slow algo alert\n",
      "7665       0.07954545454545454        ...slow algo alert\n",
      "7666       0.07955583229555832        ...slow algo alert\n",
      "7667       0.0795662100456621        ...slow algo alert\n",
      "7668       0.07957658779576587        ...slow algo alert\n",
      "7669       0.07958696554586965        ...slow algo alert\n",
      "7670       0.07959734329597343        ...slow algo alert\n",
      "--> Dumping into zip_code_dict.pickle\n",
      "7671       0.0796077210460772        ...slow algo alert\n",
      "7672       0.079618098796181        ...slow algo alert\n",
      "7673       0.07962847654628477        ...slow algo alert\n",
      "7674       0.07963885429638855        ...slow algo alert\n",
      "7675       0.07964923204649232        ...slow algo alert\n",
      "7676       0.0796596097965961        ...slow algo alert\n",
      "7677       0.07966998754669988        ...slow algo alert\n",
      "7678       0.07968036529680365        ...slow algo alert\n"
     ]
    }
   ],
   "source": [
    "get_zip_code_dict(\"01_boston-area.gpickle\")"
   ]
  },
  {
   "cell_type": "code",
   "execution_count": null,
   "metadata": {},
   "outputs": [],
   "source": []
  },
  {
   "cell_type": "code",
   "execution_count": null,
   "metadata": {},
   "outputs": [],
   "source": []
  }
 ],
 "metadata": {
  "kernelspec": {
   "display_name": "Python 3",
   "language": "python",
   "name": "python3"
  },
  "language_info": {
   "codemirror_mode": {
    "name": "ipython",
    "version": 3
   },
   "file_extension": ".py",
   "mimetype": "text/x-python",
   "name": "python",
   "nbconvert_exporter": "python",
   "pygments_lexer": "ipython3",
   "version": "3.8.5"
  }
 },
 "nbformat": 4,
 "nbformat_minor": 4
}
