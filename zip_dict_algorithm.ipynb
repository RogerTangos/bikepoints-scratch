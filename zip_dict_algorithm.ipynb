{
 "cells": [
  {
   "cell_type": "markdown",
   "metadata": {},
   "source": [
    "# Populate `zip_code_dict.pickle`\n",
    "\n",
    "^^ this is the one and only thing this file should do"
   ]
  },
  {
   "cell_type": "code",
   "execution_count": 47,
   "metadata": {},
   "outputs": [],
   "source": [
    "from shapely.geometry import Polygon, Point\n",
    "import networkx as nx\n",
    "import random\n",
    "from uszipcode import SearchEngine\n",
    "import pickle\n",
    "import fiona\n",
    "from shapely.geometry import shape\n",
    "from pyproj import Proj, transform, Transformer\n",
    "\n",
    "g_pickle = \"01_boston-area.gpickle\"\n",
    "g = nx.read_gpickle(g_pickle)\n"
   ]
  },
  {
   "cell_type": "code",
   "execution_count": null,
   "metadata": {},
   "outputs": [],
   "source": []
  },
  {
   "cell_type": "code",
   "execution_count": 48,
   "metadata": {},
   "outputs": [
    {
     "name": "stdout",
     "output_type": "stream",
     "text": [
      "02360\n",
      "02790\n",
      "01450\n",
      "02535\n",
      "01742\n",
      "02568\n",
      "02554\n",
      "02649\n",
      "01938\n",
      "01844\n",
      "01826\n",
      "02667\n",
      "02050\n",
      "02539\n",
      "02536\n",
      "01930\n",
      "01463\n",
      "02777\n",
      "01585\n",
      "02748\n",
      "02332\n",
      "01966\n",
      "02481\n",
      "02655\n",
      "02420\n",
      "02043\n",
      "01852\n",
      "02740\n",
      "02559\n",
      "01529\n",
      "01905\n",
      "01945\n",
      "02630\n",
      "02571\n",
      "02066\n",
      "01969\n",
      "01951\n",
      "01879\n",
      "01701\n",
      "02563\n",
      "02739\n",
      "01821\n",
      "01050\n",
      "02668\n",
      "02653\n",
      "01778\n",
      "01760\n",
      "01952\n",
      "01982\n",
      "01915\n",
      "02719\n",
      "02642\n",
      "01923\n",
      "01929\n",
      "02713\n",
      "02738\n",
      "02186\n",
      "02169\n",
      "01803\n",
      "02633\n",
      "01504\n",
      "02718\n",
      "02025\n",
      "02673\n",
      "01862\n",
      "01950\n",
      "01008\n",
      "01835\n",
      "01944\n",
      "02148\n",
      "02472\n",
      "01854\n",
      "02675\n",
      "02155\n",
      "02045\n",
      "02191\n",
      "02543\n",
      "01380\n",
      "02453\n",
      "02125\n",
      "02127\n",
      "02670\n",
      "02534\n",
      "02744\n",
      "02129\n",
      "02026\n",
      "02532\n",
      "01908\n",
      "02791\n",
      "02641\n",
      "01965\n",
      "02210\n",
      "02647\n",
      "02116\n",
      "02215\n",
      "02462\n",
      "02467\n",
      "02114\n",
      "02163\n",
      "02671\n",
      "02467\n",
      "02152\n"
     ]
    }
   ],
   "source": [
    "shapes = fiona.open(\"./mass_zips/zipcodes_nt/ZIPCODES_NT_POLY.shp\")\n",
    "input_proj = shapes.crs.get('init')\n",
    "output_proj = \"epsg:4326\"\n",
    "transformer = Transformer.from_crs(input_proj, output_proj)\n",
    "\n",
    "polygons = {}\n",
    "for shape in shapes:\n",
    "    zip_code = shape.get('properties').get('POSTCODE')    \n",
    "    points = []\n",
    "    for coord in shape.get('geometry').get('coordinates')[0]:\n",
    "        x = coord[0]\n",
    "        y = coord[1]\n",
    "        xy = transformer.transform(x,y)\n",
    "        points.append([xy[1], xy[0]])\n",
    "    try: \n",
    "        polygons[zip_code] = Polygon(points)\n",
    "    except: print(zip_code)"
   ]
  },
  {
   "cell_type": "code",
   "execution_count": 49,
   "metadata": {},
   "outputs": [],
   "source": [
    "with open('zip_code_dict_NEW.pickle', 'rb') as handle:\n",
    "    zip_code_dict = pickle.load(handle)"
   ]
  },
  {
   "cell_type": "code",
   "execution_count": null,
   "metadata": {},
   "outputs": [],
   "source": [
    "g_pickle = \"01_boston-area.gpickle\"\n",
    "g = nx.read_gpickle(g_pickle)\n",
    "for node_data in g.nodes().data():\n",
    "    node_id = node_data[1][\"id\"]\n",
    "    lon,lat = node_data[1]['lon'], node_data[1]['lat']\n",
    "    if node_id in zip_code_dict:\n",
    "        continue\n",
    "    for z in polygons:\n",
    "        polygon = polygons[z]\n",
    "        if polygon.contains(Point(lon,lat)):\n",
    "            zip_code_dict[node_id] = z\n",
    "            break\n",
    "            \n",
    "with open('zip_code_dict_NEW.pickle', 'wb') as handle:\n",
    "        pickle.dump(zip_code_dict, handle, protocol=pickle.HIGHEST_PROTOCOL) "
   ]
  },
  {
   "cell_type": "code",
   "execution_count": null,
   "metadata": {},
   "outputs": [],
   "source": []
  },
  {
   "cell_type": "code",
   "execution_count": null,
   "metadata": {},
   "outputs": [],
   "source": [
    "len(zip_code_dict)"
   ]
  },
  {
   "cell_type": "code",
   "execution_count": null,
   "metadata": {},
   "outputs": [],
   "source": []
  },
  {
   "cell_type": "code",
   "execution_count": null,
   "metadata": {},
   "outputs": [],
   "source": []
  },
  {
   "cell_type": "code",
   "execution_count": null,
   "metadata": {},
   "outputs": [],
   "source": []
  },
  {
   "cell_type": "code",
   "execution_count": null,
   "metadata": {},
   "outputs": [],
   "source": []
  },
  {
   "cell_type": "code",
   "execution_count": null,
   "metadata": {},
   "outputs": [],
   "source": []
  },
  {
   "cell_type": "code",
   "execution_count": null,
   "metadata": {},
   "outputs": [],
   "source": []
  },
  {
   "cell_type": "code",
   "execution_count": null,
   "metadata": {},
   "outputs": [],
   "source": []
  },
  {
   "cell_type": "code",
   "execution_count": null,
   "metadata": {},
   "outputs": [],
   "source": []
  },
  {
   "cell_type": "code",
   "execution_count": null,
   "metadata": {},
   "outputs": [],
   "source": []
  },
  {
   "cell_type": "code",
   "execution_count": null,
   "metadata": {},
   "outputs": [],
   "source": []
  },
  {
   "cell_type": "code",
   "execution_count": 21,
   "metadata": {},
   "outputs": [
    {
     "name": "stdout",
     "output_type": "stream",
     "text": [
      "['01331', '01085', '01370', '01235', '02747', '02769', '01267', '01008', '01002', '01255', '01247', '01223', '01034', '02346', '01366', '01339', '01340', '01007', '01237', '01452', '01368', '01027', '01341', '01562', '01026', '01266', '01259', '01082', '02330', '01516', '01430', '01257', '01364', '01378', '01541', '01473', '01543', '01256', '02770', '01360', '01337', '01010', '02780', '01005', '01475', '01507', '02035', '01740', '01550', '01469', '01468', '01238', '01810', '01098', '02093', '01095', '01240', '01373', '01752', '01571', '01535', '01451', '01545', '01581', '01568', '01068', '02061', '01540', '01876', '01531', '01520', '02048', '01720', '01351', '02542', '01564', '01077', '01886', '01420', '01037', '01569', '02766', '01050', '01073', '01270', '01033', '02324', '01056', '01301', '01566', '01379', '01748', '01462', '01367', '02703', '01845', '01330', '02038', '02359', '01220', '01523', '01453', '01431', '01245', '02631', '01072', '01776', '01035', '01921', '02067', '02767', '01054', '02652', '02343', '01510', '01104', '02664', '02538', '02382', '02644', '02180', '01890', '02151', '01013', '02451', '01605', '01537', '01606', '01040', '01880', '02190', '02726', '01088', '01602', '02721', '02635', '01109', '01747', '01754', '02132', '01022', '02459', '02148', '02128', '01070', '02021', '02364', '01746', '02019', '01505', '01532', '01863', '01346', '01603', '02176', '02478', '01376', '01053', '02322', '01434', '12125', '02136', '02556', '01342', '01036', '02717', '02532', '02779', '01506', '01960', '02771', '01071', '02760', '02743', '01824', '01775', '01756', '02645', '02081', '02333', '01089', '02338', '02493', '01524', '01460', '01887', '01075', '02702', '01770', '01464', '01522', '02720', '02379', '02339', '01612', '02056', '02341', '01741', '02030', '01081', '02367', '01375', '02375', '01583', '02052', '01354', '01827', '01012', '01501', '02072', '01527', '01028', '01801', '01521', '01721', '01060', '02301', '01949', '01570', '01344', '02184', '01830', '01254', '02356', '01773', '01985', '02666', '01864', '01264', '01730', '01913', '01833', '01001', '02540', '01030', '02537', '02054', '01749', '01832', '01474', '02762', '01983', '02564', '02053', '01436', '02764', '01906', '02090', '02715', '01519', '02368', '01518', '01039', '01343', '02062', '01536', '01432', '02302', '01038', '01719', '01940', '01515', '02351', '02370', '02657', '01867', '02421', '01106', '02576', '01834', '02492', '02648', '02601', '01236', '02188', '01970', '01984', '01347', '02718', '02135', '01904', '01084', '01542', '02189', '01108', '01702', '01922', '01860', '02632', '01841', '01907', '01609', '01118', '01129', '01119', '02149', '01851', '01843', '01222', '02474', '01560', '01092', '02124', '02138', '02494', '02467', '02646', '02561', '01607', '01151', '02171', '02562', '02725', '02032', '02659', '02150', '01338', '01610', '02476', '02465', '02724', '02466', '02650', '02119', '02460', '01029', '01074', '01355', '02347', '01031', '02461', '02145', '01850', '01503', '02134', '02446', '02763', '01105', '01731', '01003', '02144', '02140', '02121', '02118', '01128', '02115', '02637', '02120', '02141', '01441', '01840', '02558', '01608', '01103', '02142', '01901', '02111', '01066', '01094', '02110', '02020', '01224', '02109', '02350', '02553', '02357', '02113', '02557', '01718', '02661', '01242', '02672', '01009', '02047', '02746', '02139', '01093', '02170', '01350', '02458', '01080', '02468', '01107', '02143', '02126']\n",
      "Number still unprocessed: 27577\n",
      "Add the following to the zip_codes set:\n"
     ]
    }
   ],
   "source": [
    "search = SearchEngine(simple_zipcode=False, db_file_dir=\"./zip_code_cache\")\n",
    "zip_codes = [x for x in polygons]\n",
    "\n",
    "bad_zips = []\n",
    "polygons = {}\n",
    "zip_codes_copy = zip_codes.copy()\n",
    "for z in zip_codes_copy:\n",
    "            try: polygons[z] = Polygon(search.by_zipcode(z).polygon)\n",
    "            except: \n",
    "                print(z)\n",
    "                if z not in bad_zips:\n",
    "                    bad_zips.append(z)\n",
    "                zip_codes.remove(z)\n",
    "\n",
    "with open('zip_code_dict_NEW.pickle', 'rb') as handle:\n",
    "    zip_code_dict = pickle.load(handle)\n",
    "\n",
    "for node_data in g.nodes().data():\n",
    "    node_id = node_data[1][\"id\"]\n",
    "    lon,lat = node_data[1]['lon'], node_data[1]['lat']\n",
    "    if node_id in zip_code_dict:\n",
    "        continue\n",
    "    for z in zip_codes:\n",
    "        polygon = polygons[z]\n",
    "        if polygon.contains(Point(lon,lat)):\n",
    "            zip_code_dict[node_id] = z\n",
    "            break\n",
    "            \n",
    "with open('zip_code_dict_NEW.pickle', 'wb') as handle:\n",
    "        pickle.dump(zip_code_dict, handle, protocol=pickle.HIGHEST_PROTOCOL)            \n",
    "        \n",
    "\n",
    "zip_code_dict\n",
    "        \n",
    "unprocessed = []\n",
    "for node_data in g.nodes().data():\n",
    "    node_id = node_data[1][\"id\"]\n",
    "    if node_id not in zip_code_dict:\n",
    "        unprocessed.append(node_id)\n",
    "print(\"Number still unprocessed: \" + str(len(unprocessed)))\n",
    "print(\"Add the following to the zip_codes set:\")"
   ]
  },
  {
   "cell_type": "code",
   "execution_count": 45,
   "metadata": {
    "scrolled": true
   },
   "outputs": [
    {
     "name": "stdout",
     "output_type": "stream",
     "text": [
      "02144\n"
     ]
    }
   ],
   "source": [
    "for polygon in polygons:\n",
    "    if polygons.get(polygon).contains(Point([-71.1191928, 42.4057])):\n",
    "        print(polygon)\n",
    "\n",
    "print(search.by_coordinates(42.4057, -71.1191928, returns=1)[0].zipcode)\n",
    "\n",
    "# print(polygons.get('02143').contains(Point([-71.1191928, 42.4057])))"
   ]
  },
  {
   "cell_type": "code",
   "execution_count": 28,
   "metadata": {},
   "outputs": [
    {
     "data": {
      "text/plain": [
       "{'lat': 42.4057, 'lon': -71.1191928, 'id': '1080135386', 'tags': {}}"
      ]
     },
     "execution_count": 28,
     "metadata": {},
     "output_type": "execute_result"
    }
   ],
   "source": [
    "unprocessed\n",
    "g.nodes()['1080135386']"
   ]
  },
  {
   "cell_type": "code",
   "execution_count": null,
   "metadata": {},
   "outputs": [],
   "source": [
    "# def get_zip_code_dict():\n",
    "#     g = nx.read_gpickle(\"01_boston-area.gpickle\")\n",
    "#     nodes_data_subset = g.nodes().data()\n",
    "#     search = SearchEngine(simple_zipcode=False, db_file_dir=\"./zip_code_cache\")\n",
    "#     len_g = len(g)\n",
    "#     count = 1\n",
    "#     with open('zip_code_dict.pickle', 'rb') as handle:\n",
    "#         zip_code_dict = pickle.load(handle)\n",
    "\n",
    "#     for node_data in g.nodes().data():\n",
    "#         node_id = node_data[1][\"id\"]\n",
    "#         lon,lat = node_data[1]['lon'], node_data[1]['lat']\n",
    "#         if node_id not in zip_code_dict:\n",
    "#             count += 1\n",
    "#             zip_code_dict[node_id] = search.by_coordinates(lat, lon, returns=1)[0].zipcode\n",
    "#             print(zip_code_dict[node_id])\n",
    "#             print(str(len(zip_code_dict)) + \"       \"+ str(len(zip_code_dict)/len_g) + \"        ...slow algo alert\")\n",
    "\n",
    "\n",
    "#         if count % 25 == 0: \n",
    "#             print(\"--> Dumping into zip_code_dict.pickle\")\n",
    "#             with open('zip_code_dict_NEW.pickle', 'wb') as handle:\n",
    "#                 pickle.dump(zip_code_dict, handle, protocol=pickle.HIGHEST_PROTOCOL)        \n",
    "\n",
    "#     with open('zip_code_dict_NEW.pickle', 'wb') as handle:\n",
    "#         pickle.dump(zip_code_dict, handle, protocol=pickle.HIGHEST_PROTOCOL)\n",
    "#     return zip_code_dict"
   ]
  },
  {
   "cell_type": "code",
   "execution_count": null,
   "metadata": {},
   "outputs": [],
   "source": [
    "# get_zip_code_dict()"
   ]
  },
  {
   "cell_type": "code",
   "execution_count": null,
   "metadata": {},
   "outputs": [],
   "source": []
  },
  {
   "cell_type": "code",
   "execution_count": null,
   "metadata": {},
   "outputs": [],
   "source": []
  }
 ],
 "metadata": {
  "kernelspec": {
   "display_name": "Python 3",
   "language": "python",
   "name": "python3"
  },
  "language_info": {
   "codemirror_mode": {
    "name": "ipython",
    "version": 3
   },
   "file_extension": ".py",
   "mimetype": "text/x-python",
   "name": "python",
   "nbconvert_exporter": "python",
   "pygments_lexer": "ipython3",
   "version": "3.8.5"
  }
 },
 "nbformat": 4,
 "nbformat_minor": 4
}
