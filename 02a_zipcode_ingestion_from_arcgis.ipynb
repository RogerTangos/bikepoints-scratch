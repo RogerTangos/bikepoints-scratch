{
 "cells": [
  {
   "cell_type": "markdown",
   "metadata": {},
   "source": [
    "This notebook is for taking ArcGIS's dbf exported files and converting them to CSV"
   ]
  },
  {
   "cell_type": "code",
   "execution_count": 23,
   "metadata": {},
   "outputs": [
    {
     "name": "stdout",
     "output_type": "stream",
     "text": [
      "boston-metro\n"
     ]
    }
   ],
   "source": [
    "import os\n",
    "from dbfread import DBF\n",
    "from vars import DATASET\n",
    "print(DATASET)"
   ]
  },
  {
   "cell_type": "code",
   "execution_count": 30,
   "metadata": {},
   "outputs": [],
   "source": [
    "files = [\n",
    "    DBF('./data/boston-metro_zipcodes-encoded-nodes/Boston_01.dbf'),\n",
    "    DBF('./data/boston-metro_zipcodes-encoded-nodes/Boston_02.dbf'),\n",
    "    DBF('./data/boston-metro_zipcodes-encoded-nodes/Boston_03.dbf'),\n",
    "    DBF('./data/boston-metro_zipcodes-encoded-nodes/Boston_04.dbf')\n",
    "]\n"
   ]
  },
  {
   "cell_type": "code",
   "execution_count": 34,
   "metadata": {},
   "outputs": [],
   "source": [
    "\n",
    "\n",
    "file_location = \"./data/\" + DATASET + \"_zipcodes.csv\"\n",
    "os.remove(file_location)\n",
    "\n",
    "f = open(file_location, \"a\")\n",
    "f.write(\"id,zipcode\\n\")\n",
    "\n",
    "for file in files:\n",
    "    for record in file:\n",
    "        pid = record['Field1']\n",
    "        zipcode = record['ZCTA5CE10']\n",
    "        f.write(str(pid) + ',' + str(zipcode) + '\\n')\n",
    "    \n",
    "f.close()\n"
   ]
  },
  {
   "cell_type": "code",
   "execution_count": null,
   "metadata": {},
   "outputs": [],
   "source": []
  }
 ],
 "metadata": {
  "kernelspec": {
   "display_name": "bikepoints",
   "language": "python",
   "name": "bikepoints"
  },
  "language_info": {
   "codemirror_mode": {
    "name": "ipython",
    "version": 3
   },
   "file_extension": ".py",
   "mimetype": "text/x-python",
   "name": "python",
   "nbconvert_exporter": "python",
   "pygments_lexer": "ipython3",
   "version": "3.7.0"
  },
  "varInspector": {
   "cols": {
    "lenName": 16,
    "lenType": 16,
    "lenVar": 40
   },
   "kernels_config": {
    "python": {
     "delete_cmd_postfix": "",
     "delete_cmd_prefix": "del ",
     "library": "var_list.py",
     "varRefreshCmd": "print(var_dic_list())"
    },
    "r": {
     "delete_cmd_postfix": ") ",
     "delete_cmd_prefix": "rm(",
     "library": "var_list.r",
     "varRefreshCmd": "cat(var_dic_list()) "
    }
   },
   "types_to_exclude": [
    "module",
    "function",
    "builtin_function_or_method",
    "instance",
    "_Feature"
   ],
   "window_display": false
  }
 },
 "nbformat": 4,
 "nbformat_minor": 4
}
