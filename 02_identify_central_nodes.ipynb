{
 "cells": [
  {
   "cell_type": "code",
   "execution_count": 73,
   "metadata": {},
   "outputs": [],
   "source": [
    "import networkx as nx\n",
    "import pickle as pkl"
   ]
  },
  {
   "cell_type": "code",
   "execution_count": 74,
   "metadata": {},
   "outputs": [],
   "source": [
    "g = nx.read_gpickle(\"01_cambridge-small.gpickle\")"
   ]
  },
  {
   "cell_type": "code",
   "execution_count": 75,
   "metadata": {},
   "outputs": [
    {
     "name": "stdout",
     "output_type": "stream",
     "text": [
      "voterank\n",
      "voterank\n",
      "voterank\n",
      "voterank\n",
      "voterank\n",
      "voterank\n",
      "voterank\n",
      "voterank\n",
      "voterank\n",
      "voterank\n"
     ]
    }
   ],
   "source": [
    "# voterank\n",
    "central_nodes = nx.algorithms.centrality.voterank(g, number_of_nodes=10)\n",
    "for node in central_nodes:\n",
    "    print('voterank')\n",
    "    g.nodes[node]['central'] = \"voterank\"\n",
    "\n",
    "\n",
    "# betweenness\n",
    "betweenness_subset = (nx.algorithms.centrality.betweenness_centrality(g))\n",
    "central_nodes = [x[0] for x in list(betweenness_subset.items()) if x[1] > 0.2]\n",
    "for node in central_nodes:\n",
    "    g.nodes[node]['central'] = \"betweenness\"\n"
   ]
  },
  {
   "cell_type": "code",
   "execution_count": 72,
   "metadata": {},
   "outputs": [],
   "source": [
    "nx.write_gpickle(g, \"02_cambridge-small.gpickle\")"
   ]
  },
  {
   "cell_type": "code",
   "execution_count": null,
   "metadata": {},
   "outputs": [],
   "source": []
  }
 ],
 "metadata": {
  "kernelspec": {
   "display_name": "bikepoints",
   "language": "python",
   "name": "bikepoints"
  },
  "language_info": {
   "codemirror_mode": {
    "name": "ipython",
    "version": 3
   },
   "file_extension": ".py",
   "mimetype": "text/x-python",
   "name": "python",
   "nbconvert_exporter": "python",
   "pygments_lexer": "ipython3",
   "version": "3.7.0"
  },
  "varInspector": {
   "cols": {
    "lenName": 16,
    "lenType": 16,
    "lenVar": 40
   },
   "kernels_config": {
    "python": {
     "delete_cmd_postfix": "",
     "delete_cmd_prefix": "del ",
     "library": "var_list.py",
     "varRefreshCmd": "print(var_dic_list())"
    },
    "r": {
     "delete_cmd_postfix": ") ",
     "delete_cmd_prefix": "rm(",
     "library": "var_list.r",
     "varRefreshCmd": "cat(var_dic_list()) "
    }
   },
   "types_to_exclude": [
    "module",
    "function",
    "builtin_function_or_method",
    "instance",
    "_Feature"
   ],
   "window_display": false
  }
 },
 "nbformat": 4,
 "nbformat_minor": 4
}
