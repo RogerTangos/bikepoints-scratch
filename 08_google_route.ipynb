{
 "cells": [
  {
   "cell_type": "code",
   "execution_count": 29,
   "metadata": {},
   "outputs": [],
   "source": [
    "from secret import SECRET\n",
    "import networkx as nx\n",
    "import re\n",
    "import json\n",
    "import random\n",
    "from urllib.parse import quote\n",
    "import requests\n",
    "import folium as f\n",
    "import pprint\n",
    "from demo import DATASET\n",
    "\n",
    "BASE_URL = \"https://maps.googleapis.com/maps/api/directions/json?\"\n",
    "URL_END = \"&mode=bicycling&key=\" + SECRET\n",
    "WAYPOINT_MAX = 23 # In case we ever use waypoints\n",
    " "
   ]
  },
  {
   "cell_type": "code",
   "execution_count": 30,
   "metadata": {},
   "outputs": [],
   "source": [
    "import pickle\n",
    "with open('./data/07' + DATASET + '_yes_central_square_final_edges.pkl', 'rb') as file:\n",
    "    edge_data = pickle.load(file)\n",
    "\n",
    "with open('./data/07_hardcoded_point_names.pkl', 'rb') as file:\n",
    "    hardcoded_point_names = pickle.load(file)\n",
    "    \n",
    "with open('./data/08_' + DATASET + '_previous_urls.pkl', 'rb') as file:\n",
    "    previous_urls = pickle.load(file)"
   ]
  },
  {
   "cell_type": "code",
   "execution_count": 3,
   "metadata": {},
   "outputs": [
    {
     "data": {
      "text/plain": [
       "[]"
      ]
     },
     "execution_count": 3,
     "metadata": {},
     "output_type": "execute_result"
    }
   ],
   "source": [
    "[x for x in edge_data if x[0] == [42.369192, -71.0730914] or x[1] == [42.369192, -71.0730914]]"
   ]
  },
  {
   "cell_type": "code",
   "execution_count": 4,
   "metadata": {},
   "outputs": [
    {
     "data": {
      "text/plain": [
       "[[[42.3227638, -71.0999462], [42.3252094, -71.0749335]],\n",
       " [[42.310066, -71.107549], [42.3227638, -71.0999462]],\n",
       " [[42.3737246, -71.1008111], [42.3742679, -71.1188142]],\n",
       " [[42.3742679, -71.1188142], [42.379635, -71.096387]],\n",
       " [[42.379635, -71.096387], [42.3737246, -71.1008111]],\n",
       " [[42.342193, -71.1212516], [42.3632611, -71.1296873]],\n",
       " [[42.3524881, -71.0553466], [42.3597038, -71.0520451]],\n",
       " [[42.3297015, -71.0568123], [42.3524881, -71.0553466]],\n",
       " [[42.3525933, -71.0673168], [42.3524881, -71.0553466]],\n",
       " [[42.3252094, -71.0749335], [42.3326217, -71.0720415]],\n",
       " [[42.3326217, -71.0720415], [42.3297015, -71.0568123]],\n",
       " [[42.3326217, -71.0720415], [42.3525933, -71.0673168]],\n",
       " [[42.3326217, -71.0720415], [42.3464752, -71.0909098]],\n",
       " [[42.3464752, -71.0909098], [42.3525933, -71.0673168]],\n",
       " [[42.3570628, -71.092537], [42.3521151, -71.0897845]],\n",
       " [[42.3521151, -71.0897845], [42.3464752, -71.0909098]],\n",
       " [[42.3521151, -71.0897845], [42.3525933, -71.0673168]],\n",
       " [[42.3157205, -71.1174339], [42.3227638, -71.0999462]],\n",
       " [[42.310066, -71.107549], [42.3157205, -71.1174339]],\n",
       " [[42.3317919, -71.1134095], [42.3157205, -71.1174339]],\n",
       " [[42.342193, -71.1212516], [42.3317919, -71.1134095]],\n",
       " [[42.3317919, -71.1134095], [42.3227638, -71.0999462]],\n",
       " [[42.3622709, -71.1135298], [42.3632611, -71.1296873]],\n",
       " [[42.3632611, -71.1296873], [42.3742679, -71.1188142]],\n",
       " [[42.3622709, -71.1135298], [42.3539609, -71.1109653]],\n",
       " [[42.3570628, -71.092537], [42.3624477, -71.0843118]],\n",
       " [[42.3624477, -71.0843118], [42.3737246, -71.1008111]],\n",
       " [[42.3227638, -71.0999462], [42.3353723, -71.090063]],\n",
       " [[42.3353723, -71.090063], [42.3252094, -71.0749335]],\n",
       " [[42.3326217, -71.0720415], [42.3353723, -71.090063]],\n",
       " [[42.3353723, -71.090063], [42.3464752, -71.0909098]],\n",
       " [[42.3448431, -71.1042418], [42.3317919, -71.1134095]],\n",
       " [[42.342193, -71.1212516], [42.3448431, -71.1042418]],\n",
       " [[42.3448431, -71.1042418], [42.3570628, -71.092537]],\n",
       " [[42.3464752, -71.0909098], [42.3448431, -71.1042418]],\n",
       " [[42.3539609, -71.1109653], [42.3570628, -71.092537]],\n",
       " [[42.3353723, -71.090063], [42.3448431, -71.1042418]],\n",
       " [[42.3737246, -71.1008111], [42.369837, -71.112607]],\n",
       " [[42.369837, -71.112607], [42.3742679, -71.1188142]],\n",
       " [[42.369837, -71.112607], [42.3622709, -71.1135298]],\n",
       " [[42.3521151, -71.0897845], [42.3610239, -71.0715613]],\n",
       " [[42.3610239, -71.0715613], [42.3525933, -71.0673168]],\n",
       " [[42.3624477, -71.0843118], [42.3610239, -71.0715613]],\n",
       " [[42.3610239, -71.0715613], [42.3597038, -71.0520451]],\n",
       " [[42.3539609, -71.1109653], [42.3504399, -71.1108926]],\n",
       " [[42.3504399, -71.1108926], [42.342193, -71.1212516]],\n",
       " [[42.3504399, -71.1108926], [42.3448431, -71.1042418]],\n",
       " [[42.3655877, -71.1040004], [42.369837, -71.112607]],\n",
       " [[42.3737246, -71.1008111], [42.3655877, -71.1040004]],\n",
       " [[42.3655877, -71.1040004], [42.3622709, -71.1135298]],\n",
       " [[42.3570628, -71.092537], [42.3655877, -71.1040004]],\n",
       " [[42.3539609, -71.1109653], [42.3655877, -71.1040004]]]"
      ]
     },
     "execution_count": 4,
     "metadata": {},
     "output_type": "execute_result"
    }
   ],
   "source": [
    "edge_data"
   ]
  },
  {
   "cell_type": "code",
   "execution_count": 5,
   "metadata": {},
   "outputs": [],
   "source": [
    "def decode_polyline(polyline_str):\n",
    "    '''Pass a Google Maps encoded polyline string; returns list of lat/lon pairs\n",
    "       WRITTEN BY mgd722\n",
    "    '''\n",
    "    index, lat, lng = 0, 0, 0\n",
    "    coordinates = []\n",
    "    changes = {'latitude': 0, 'longitude': 0}\n",
    "\n",
    "    # Coordinates have variable length when encoded, so just keep\n",
    "    # track of whether we've hit the end of the string. In each\n",
    "    # while loop iteration, a single coordinate is decoded.\n",
    "    while index < len(polyline_str):\n",
    "        # Gather lat/lon changes, store them in a dictionary to apply them later\n",
    "        for unit in ['latitude', 'longitude']: \n",
    "            shift, result = 0, 0\n",
    "\n",
    "            while True:\n",
    "                byte = ord(polyline_str[index]) - 63\n",
    "                index += 1\n",
    "                result |= (byte & 0x1f) << shift\n",
    "                shift += 5\n",
    "                if not byte >= 0x20:\n",
    "                    break\n",
    "\n",
    "            if (result & 1):\n",
    "                changes[unit] = ~(result >> 1)\n",
    "            else:\n",
    "                changes[unit] = (result >> 1)\n",
    "\n",
    "        lat += changes['latitude']\n",
    "        lng += changes['longitude']\n",
    "\n",
    "        coordinates.append((lat / 100000.0, lng / 100000.0))\n",
    "\n",
    "    return coordinates"
   ]
  },
  {
   "cell_type": "code",
   "execution_count": 6,
   "metadata": {},
   "outputs": [],
   "source": [
    "def generate_url(origin, dest):\n",
    "    origin_param = \"&\" + \"origin=\" +quote((str(origin['lat']) + ',' + str(origin['lon'])))\n",
    "    dest_param = \"&\" + \"destination=\" + quote((str(dest['lat']) + ',' + str(dest['lon'])))\n",
    "\n",
    "    url = BASE_URL + origin_param + dest_param\n",
    "    return url\n",
    "\n"
   ]
  },
  {
   "cell_type": "code",
   "execution_count": 7,
   "metadata": {},
   "outputs": [],
   "source": [
    "for edge in edge_data:\n",
    "    origin = {'lat': edge[0][0], 'lon': edge[0][1]}\n",
    "    dest = {'lat': edge[1][0], 'lon': edge[1][1]}\n",
    "    \n",
    "    right = generate_url(origin, dest)\n",
    "    left = generate_url(dest, origin)\n",
    "    \n",
    "    if previous_urls.get(right) is None:\n",
    "        print('hit')\n",
    "        previous_urls[right] = {} \n",
    "    if previous_urls.get(left) is None:\n",
    "        previous_urls[left] = {}\n",
    "    "
   ]
  },
  {
   "cell_type": "code",
   "execution_count": 8,
   "metadata": {},
   "outputs": [],
   "source": [
    "for url, v in previous_urls.items():\n",
    "    if v.get('response', None) is None:\n",
    "        print('hit')\n",
    "        route_data = requests.get(url + URL_END).json()\n",
    "        previous_urls[url]['response'] = route_data\n",
    "with open('./data/08_' + DATASET + '_previous_urls.pkl', 'wb') as file:\n",
    "    pickle.dump(previous_urls, file)"
   ]
  },
  {
   "cell_type": "code",
   "execution_count": 9,
   "metadata": {},
   "outputs": [],
   "source": [
    "unique_nodes = set()\n",
    "\n",
    "for edge in edge_data:\n",
    "    origin = (edge[0][0], edge[0][1])\n",
    "    dest = (edge[1][0], edge[1][1])\n",
    "    unique_nodes.add(origin)\n",
    "    unique_nodes.add(dest)\n"
   ]
  },
  {
   "cell_type": "code",
   "execution_count": 10,
   "metadata": {},
   "outputs": [
    {
     "data": {
      "text/plain": [
       "{(42.310066, -71.107549),\n",
       " (42.3157205, -71.1174339),\n",
       " (42.3227638, -71.0999462),\n",
       " (42.3252094, -71.0749335),\n",
       " (42.3297015, -71.0568123),\n",
       " (42.3317919, -71.1134095),\n",
       " (42.3326217, -71.0720415),\n",
       " (42.3353723, -71.090063),\n",
       " (42.342193, -71.1212516),\n",
       " (42.3448431, -71.1042418),\n",
       " (42.3464752, -71.0909098),\n",
       " (42.3504399, -71.1108926),\n",
       " (42.3521151, -71.0897845),\n",
       " (42.3524881, -71.0553466),\n",
       " (42.3525933, -71.0673168),\n",
       " (42.3539609, -71.1109653),\n",
       " (42.3570628, -71.092537),\n",
       " (42.3597038, -71.0520451),\n",
       " (42.3610239, -71.0715613),\n",
       " (42.3622709, -71.1135298),\n",
       " (42.3624477, -71.0843118),\n",
       " (42.3632611, -71.1296873),\n",
       " (42.3655877, -71.1040004),\n",
       " (42.369837, -71.112607),\n",
       " (42.3737246, -71.1008111),\n",
       " (42.3742679, -71.1188142),\n",
       " (42.379635, -71.096387)}"
      ]
     },
     "execution_count": 10,
     "metadata": {},
     "output_type": "execute_result"
    }
   ],
   "source": [
    "unique_nodes"
   ]
  },
  {
   "cell_type": "code",
   "execution_count": 27,
   "metadata": {},
   "outputs": [],
   "source": [
    "def draw_map():\n",
    "    m = f.Map(location = [42.3624477, -71.0843118], zoom_start=14)\n",
    "#     f.TileLayer('cartodbpositron').add_to(m)\n",
    "#     f.TileLayer('openstreetmap').add_to(m)\n",
    "    \n",
    "\n",
    "    for node in unique_nodes:\n",
    "        lat = node[0]\n",
    "        lon = node[1]\n",
    "        \n",
    "        size = 25\n",
    "        color = \"green\"\n",
    "        \n",
    "        node_number = hardcoded_point_names[(lat, lon)]\n",
    "        \n",
    "        f.Marker(location=[lat,lon],\n",
    "          # Set icon to DivIcon to with conditional style formatting to reference the random temp value.\n",
    "          icon=f.DivIcon(html=f\"\"\"<div style=\"border:1px solid {color}; text-align: center; vertical-align: middle; line-height: {size}px; background-color: white; width: {size}px; height: {size}px; border-radius: {size}px; font-family: sans-serif; color: {color};\">{node_number}</div>\"\"\"),\n",
    "          popup = str(lat) + \", \" + str(lon),\n",
    "         ).add_to(m)\n",
    "\n",
    "    \n",
    "    for edge in edge_data:\n",
    "        origin = {'lat': edge[0][0], 'lon': edge[0][1]}\n",
    "        dest = {'lat': edge[1][0], 'lon': edge[1][1]}\n",
    "        \n",
    "        route_to_dest = generate_url(origin, dest)\n",
    "        route_to_origin = generate_url(dest, origin)\n",
    "        \n",
    "        poly_to_dest = previous_urls[route_to_dest]\n",
    "        poly_to_origin = previous_urls[route_to_origin]\n",
    "    \n",
    "        steps_to_dest = poly_to_dest['response']['routes'][0]['legs'][0]['steps']\n",
    "        steps_to_origin = poly_to_origin['response']['routes'][0]['legs'][0]['steps']\n",
    "        \n",
    "        for step in steps_to_dest + steps_to_origin:\n",
    "            encoded_polyline = step[\"polyline\"][\"points\"]\n",
    "            polyline = decode_polyline(encoded_polyline)\n",
    "\n",
    "#             if (origin['lat'] == 42.3655877 or \n",
    "#                 dest['lat'] == 42.3655877) and (origin['lon'] == -71.1040004 or \n",
    "#                                                 dest['lon'] == -71.1040004):\n",
    "                \n",
    "        \n",
    "#                 m.add_child(f.PolyLine(locations=polyline, opacity=1, color='magenta'))\n",
    "#             else:\n",
    "            m.add_child(f.PolyLine(locations=polyline, weight=6, opacity=1, color=color))\n",
    "    \n",
    "    \n",
    " \n",
    "    bike_icon = f.features.CustomIcon(\"./img/bike2.png\",icon_size=(98, 62))\n",
    "    f.Marker(draggable=True, location=(42.3624477, -71.0843118),icon=bike_icon).add_to(m)\n",
    "\n",
    "    \n",
    "    return m"
   ]
  },
  {
   "cell_type": "code",
   "execution_count": 15,
   "metadata": {
    "scrolled": false
   },
   "outputs": [
    {
     "ename": "NameError",
     "evalue": "name 'm' is not defined",
     "output_type": "error",
     "traceback": [
      "\u001b[0;31m---------------------------------------------------------------------------\u001b[0m",
      "\u001b[0;31mNameError\u001b[0m                                 Traceback (most recent call last)",
      "\u001b[0;32m<ipython-input-15-5ccb231b1999>\u001b[0m in \u001b[0;36m<module>\u001b[0;34m\u001b[0m\n\u001b[0;32m----> 1\u001b[0;31m \u001b[0mf\u001b[0m\u001b[0;34m.\u001b[0m\u001b[0mTileLayer\u001b[0m\u001b[0;34m(\u001b[0m\u001b[0mopacity\u001b[0m\u001b[0;34m=\u001b[0m\u001b[0;36m0.2\u001b[0m\u001b[0;34m)\u001b[0m\u001b[0;34m.\u001b[0m\u001b[0madd_to\u001b[0m\u001b[0;34m(\u001b[0m\u001b[0mm\u001b[0m\u001b[0;34m)\u001b[0m\u001b[0;34m\u001b[0m\u001b[0;34m\u001b[0m\u001b[0m\n\u001b[0m\u001b[1;32m      2\u001b[0m \u001b[0;34m\u001b[0m\u001b[0m\n\u001b[1;32m      3\u001b[0m \u001b[0mm\u001b[0m \u001b[0;34m=\u001b[0m \u001b[0mdraw_map\u001b[0m\u001b[0;34m(\u001b[0m\u001b[0;34m)\u001b[0m\u001b[0;34m\u001b[0m\u001b[0;34m\u001b[0m\u001b[0m\n\u001b[1;32m      4\u001b[0m \u001b[0;31m# f.opacity=.2\u001b[0m\u001b[0;34m\u001b[0m\u001b[0;34m\u001b[0m\u001b[0;34m\u001b[0m\u001b[0m\n\u001b[1;32m      5\u001b[0m \u001b[0;31m# f.TileLayer(opacity=0.5).add_to(m)\u001b[0m\u001b[0;34m\u001b[0m\u001b[0;34m\u001b[0m\u001b[0;34m\u001b[0m\u001b[0m\n",
      "\u001b[0;31mNameError\u001b[0m: name 'm' is not defined"
     ]
    }
   ],
   "source": [
    "f.TileLayer(opacity=0.2).add_to(m)\n",
    "\n",
    "m = draw_map()\n",
    "# f.opacity=.2\n",
    "# f.TileLayer(opacity=0.5).add_to(m)\n",
    "# f.TileLayer('stamenterrain').add_to(m)\n",
    "f.TileLayer('stamenwatercolor').add_to(m)\n",
    "m"
   ]
  },
  {
   "cell_type": "code",
   "execution_count": 16,
   "metadata": {},
   "outputs": [
    {
     "name": "stdout",
     "output_type": "stream",
     "text": [
      "We have these many one-directional edges: 52. To account for the fact that each of these edges is flip-reversed (so you get both to-dest and from-dest) we see that there are actually 104 edges. Each of these directed edges is the out-edge exactly once\n",
      " --> FINAL RESULT: 104 OUT NODES\n",
      "The Google API data has what are called `maneuvers`, things like 'turn-slight-left' or 'turn-right'\n",
      "(but not 'keep straight'). On all the edges, to/from origin/dest, we have the following count: 377\n",
      " --> FINAL RESULT: 377 SIGNS NEEDED BETWEEN NODES\n"
     ]
    }
   ],
   "source": [
    "print(\"We have these many one-directional edges: \" + str(len(edge_data)) + \". To account for\"\n",
    "     + \" the fact that each of these edges is flip-reversed (so you get both to-dest and from-dest)\" +\n",
    "     \" we see that there are actually \" + str(len(edge_data) * 2) + \" edges. Each of these directed edges\"\n",
    "     + \" is the out-edge exactly once\\n --> FINAL RESULT: \" + str(len(edge_data) * 2)+ \" OUT NODES\")\n",
    "\n",
    "from pprint import pprint\n",
    "\n",
    "\n",
    "maneuver_count = 0\n",
    "for edge in edge_data:\n",
    "        origin = {'lat': edge[0][0], 'lon': edge[0][1]}\n",
    "        dest = {'lat': edge[1][0], 'lon': edge[1][1]}\n",
    "        \n",
    "        route_to_dest = generate_url(origin, dest)\n",
    "        route_to_origin = generate_url(dest, origin)\n",
    "        \n",
    "        poly_to_dest = previous_urls[route_to_dest]\n",
    "        poly_to_origin = previous_urls[route_to_origin]\n",
    "    \n",
    "        steps_to_dest = poly_to_dest['response']['routes'][0]['legs'][0]['steps']\n",
    "        steps_to_origin = poly_to_origin['response']['routes'][0]['legs'][0]['steps']\n",
    "        \n",
    "        \n",
    "        for step in steps_to_dest + steps_to_origin:\n",
    "            if step.get('maneuver', None) is not None:\n",
    "#                 print(step['maneuver'])\n",
    "                maneuver_count += 1\n",
    "print(\"The Google API data has what are called `maneuvers`, things like 'turn-slight-left' or 'turn-right'\\n(but not 'keep\"\n",
    "      \" straight'). On all the edges, to/from origin/dest, we have the following count: \" +str(maneuver_count))\n",
    "print(\" --> FINAL RESULT: \" + str(maneuver_count) + \" SIGNS NEEDED BETWEEN NODES\")"
   ]
  },
  {
   "cell_type": "code",
   "execution_count": null,
   "metadata": {},
   "outputs": [],
   "source": []
  }
 ],
 "metadata": {
  "kernelspec": {
   "display_name": "Python 3",
   "language": "python",
   "name": "python3"
  },
  "language_info": {
   "codemirror_mode": {
    "name": "ipython",
    "version": 3
   },
   "file_extension": ".py",
   "mimetype": "text/x-python",
   "name": "python",
   "nbconvert_exporter": "python",
   "pygments_lexer": "ipython3",
   "version": "3.8.5"
  },
  "varInspector": {
   "cols": {
    "lenName": 16,
    "lenType": 16,
    "lenVar": 40
   },
   "kernels_config": {
    "python": {
     "delete_cmd_postfix": "",
     "delete_cmd_prefix": "del ",
     "library": "var_list.py",
     "varRefreshCmd": "print(var_dic_list())"
    },
    "r": {
     "delete_cmd_postfix": ") ",
     "delete_cmd_prefix": "rm(",
     "library": "var_list.r",
     "varRefreshCmd": "cat(var_dic_list()) "
    }
   },
   "types_to_exclude": [
    "module",
    "function",
    "builtin_function_or_method",
    "instance",
    "_Feature"
   ],
   "window_display": false
  }
 },
 "nbformat": 4,
 "nbformat_minor": 4
}
