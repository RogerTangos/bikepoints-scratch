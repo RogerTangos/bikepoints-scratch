{
 "cells": [
  {
   "cell_type": "code",
   "execution_count": 2,
   "metadata": {},
   "outputs": [],
   "source": [
    "from uszipcode import SearchEngine\n",
    "import networkx as nx\n",
    "import pickle\n",
    "\n",
    "\n",
    "search = SearchEngine(simple_zipcode=False, db_file_dir=\"./zip_code_cache\")"
   ]
  },
  {
   "cell_type": "code",
   "execution_count": 3,
   "metadata": {},
   "outputs": [
    {
     "data": {
      "text/plain": [
       "{'zipcode': '02121', 'population': 25978}"
      ]
     },
     "execution_count": 3,
     "metadata": {},
     "output_type": "execute_result"
    }
   ],
   "source": [
    "def get_zip_data(lat, lon):\n",
    "    zip_code_data = search.by_coordinates(lat, lon, returns=1)[0]\n",
    "    return {\"zipcode\": zip_code_data.zipcode,\n",
    "            \"population\": zip_code_data.population} \n",
    "\n",
    "get_zip_data(42.3,-71.1)"
   ]
  },
  {
   "cell_type": "code",
   "execution_count": null,
   "metadata": {},
   "outputs": [],
   "source": []
  },
  {
   "cell_type": "code",
   "execution_count": 4,
   "metadata": {},
   "outputs": [],
   "source": [
    "g = nx.read_gpickle(\"01_cambridge.gpickle\")\n",
    "nodes_data_subset = g.nodes().data()"
   ]
  },
  {
   "cell_type": "markdown",
   "metadata": {},
   "source": [
    "## Populate a dict of each node's zip code"
   ]
  },
  {
   "cell_type": "code",
   "execution_count": 5,
   "metadata": {},
   "outputs": [],
   "source": [
    "count = 0\n",
    "with open('zip_code_dict.pickle', 'rb') as handle:\n",
    "    zip_code_dict = pickle.load(handle)\n",
    "\n",
    "for node_data in nodes_data_subset:\n",
    "    count += 1\n",
    "    node_id = node_data[1][\"id\"]\n",
    "    lon,lat = node_data[1]['lon'], node_data[1]['lat']\n",
    "    if node_id not in zip_code_dict:\n",
    "        print(\"missing zip codes being added! This might take a while...\")\n",
    "        zip_code_dict[node_id] = get_zip_data(lat, lon)\n",
    "    if count % 100 == 0: \n",
    "        with open('zip_code_dict.pickle', 'wb') as handle:\n",
    "            pickle.dump(zip_code_dict, handle, protocol=pickle.HIGHEST_PROTOCOL)        \n",
    "            \n",
    "with open('zip_code_dict.pickle', 'wb') as handle:\n",
    "    pickle.dump(zip_code_dict, handle, protocol=pickle.HIGHEST_PROTOCOL)\n"
   ]
  },
  {
   "cell_type": "markdown",
   "metadata": {},
   "source": [
    "## Use `area` library to find Polygon's geographic area"
   ]
  },
  {
   "cell_type": "code",
   "execution_count": 15,
   "metadata": {},
   "outputs": [
    {
     "name": "stdout",
     "output_type": "stream",
     "text": [
      "Estimated area of Wyoming: 253529km^2\n",
      "Error:                     71km^2\n"
     ]
    }
   ],
   "source": [
    "from area import area\n",
    "import math\n",
    "\n",
    "wyoming = {'type':'Polygon','coordinates':[[[-111.046768, 40.997963], \n",
    "                                            [-111.055196, 45.001320], \n",
    "                                            [-104.057691, 44.997377],\n",
    "                                            [-104.053251, 41.001410],\n",
    "                                            [-111.046768, 40.997963]]]}\n",
    "\n",
    "area_m2 = area(wyoming)\n",
    "\n",
    "area_km2 = area_m2 / 1e+6\n",
    "# print ('area m2: ' + str(math.floor(area_m2)))\n",
    "print ('Estimated area of Wyoming: ' + str(math.floor(area_km2)) + 'km^2')\n",
    "print(\"Error:                     \" + str(253600 - math.floor(area_km2)) + \"km^2\" )"
   ]
  },
  {
   "cell_type": "code",
   "execution_count": null,
   "metadata": {},
   "outputs": [],
   "source": []
  },
  {
   "cell_type": "code",
   "execution_count": null,
   "metadata": {},
   "outputs": [],
   "source": []
  },
  {
   "cell_type": "code",
   "execution_count": null,
   "metadata": {},
   "outputs": [],
   "source": []
  },
  {
   "cell_type": "code",
   "execution_count": null,
   "metadata": {},
   "outputs": [],
   "source": []
  },
  {
   "cell_type": "code",
   "execution_count": null,
   "metadata": {},
   "outputs": [],
   "source": []
  },
  {
   "cell_type": "markdown",
   "metadata": {},
   "source": [
    "## Area-producing cruft"
   ]
  },
  {
   "cell_type": "code",
   "execution_count": 14,
   "metadata": {},
   "outputs": [
    {
     "name": "stdout",
     "output_type": "stream",
     "text": [
      "253115\n"
     ]
    },
    {
     "name": "stderr",
     "output_type": "stream",
     "text": [
      "/Users/cromptonwork/opt/anaconda3/envs/bikepoints-scratch/lib/python3.8/site-packages/pyproj/crs/crs.py:53: FutureWarning: '+init=<authority>:<code>' syntax is deprecated. '<authority>:<code>' is the preferred initialization method. When making the change, be mindful of axis order changes: https://pyproj4.github.io/pyproj/stable/gotchas.html#axis-order-changes-in-proj-6\n",
      "  return _prepare_from_string(\" \".join(pjargs))\n",
      "/Users/cromptonwork/opt/anaconda3/envs/bikepoints-scratch/lib/python3.8/site-packages/pyproj/crs/crs.py:294: FutureWarning: '+init=<authority>:<code>' syntax is deprecated. '<authority>:<code>' is the preferred initialization method. When making the change, be mindful of axis order changes: https://pyproj4.github.io/pyproj/stable/gotchas.html#axis-order-changes-in-proj-6\n",
      "  projstring = _prepare_from_string(\" \".join((projstring, projkwargs)))\n"
     ]
    }
   ],
   "source": [
    "import pyproj    \n",
    "import shapely\n",
    "import shapely.ops as ops\n",
    "from shapely.geometry.polygon import Polygon\n",
    "from functools import partial\n",
    "\n",
    "\n",
    "# geom = Polygon([[40.997963, -111.046768], \n",
    "#                 [45.001320, -111.055196], \n",
    "#                 [44.997377, -104.057691],\n",
    "#                 [41.001410, -104.053251],\n",
    "#                 [40.997963, -111.046768]])\n",
    "\n",
    "\n",
    "geom = Polygon([[-111.046768, 40.997963], \n",
    "                [-111.055196, 45.001320], \n",
    "                [-104.057691, 44.997377],\n",
    "                [-104.053251, 41.001410],\n",
    "                [-111.046768, 40.997963]])\n",
    "# geom = Polygon([[40,-111],\n",
    "#                 [2,3],\n",
    "#                 [3,5],\n",
    "#                 [40,-111]])\n",
    "geom_area = ops.transform(\n",
    "    partial(\n",
    "        pyproj.transform,\n",
    "        pyproj.Proj(init='EPSG:4326'),\n",
    "        pyproj.Proj(\n",
    "            proj='aea',\n",
    "            lat_1=geom.bounds[1],\n",
    "            lat_2=geom.bounds[3])),\n",
    "    geom)\n",
    "\n",
    "# Print the area in m^2\n",
    "print (math.floor(geom_area.area / 1000000) )"
   ]
  },
  {
   "cell_type": "code",
   "execution_count": null,
   "metadata": {},
   "outputs": [],
   "source": []
  }
 ],
 "metadata": {
  "kernelspec": {
   "display_name": "Python 3",
   "language": "python",
   "name": "python3"
  },
  "language_info": {
   "codemirror_mode": {
    "name": "ipython",
    "version": 3
   },
   "file_extension": ".py",
   "mimetype": "text/x-python",
   "name": "python",
   "nbconvert_exporter": "python",
   "pygments_lexer": "ipython3",
   "version": "3.8.5"
  }
 },
 "nbformat": 4,
 "nbformat_minor": 4
}
